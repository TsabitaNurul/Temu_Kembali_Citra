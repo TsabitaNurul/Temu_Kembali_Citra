{
  "nbformat": 4,
  "nbformat_minor": 0,
  "metadata": {
    "colab": {
      "name": "CBIR.ipynb",
      "provenance": [],
      "collapsed_sections": [],
      "authorship_tag": "ABX9TyOBMEyDNSl90StcD/GteufO",
      "include_colab_link": true
    },
    "kernelspec": {
      "name": "python3",
      "display_name": "Python 3"
    },
    "language_info": {
      "name": "python"
    },
    "accelerator": "GPU"
  },
  "cells": [
    {
      "cell_type": "markdown",
      "metadata": {
        "id": "view-in-github",
        "colab_type": "text"
      },
      "source": [
        "<a href=\"https://colab.research.google.com/github/TsabitaNurul/Temu_Kembali_Citra/blob/main/CBIR.ipynb\" target=\"_parent\"><img src=\"https://colab.research.google.com/assets/colab-badge.svg\" alt=\"Open In Colab\"/></a>"
      ]
    },
    {
      "cell_type": "code",
      "metadata": {
        "id": "_iP7_H-5ubtG",
        "colab": {
          "base_uri": "https://localhost:8080/"
        },
        "outputId": "63e0bb15-d0b9-4ce6-91ce-ba8e63457150"
      },
      "source": [
        "from google.colab import drive\n",
        "drive.mount('/content/drive')"
      ],
      "execution_count": 1,
      "outputs": [
        {
          "output_type": "stream",
          "name": "stdout",
          "text": [
            "Mounted at /content/drive\n"
          ]
        }
      ]
    },
    {
      "cell_type": "code",
      "metadata": {
        "id": "fWkAcnefSPKI"
      },
      "source": [
        "# Definisikan path kaggle json\n",
        "# Sesuaikan dengan path anda\n",
        "import os\n",
        "os.environ['KAGGLE_CONFIG_DIR'] = \"/content/drive/My Drive/IR\""
      ],
      "execution_count": 2,
      "outputs": []
    },
    {
      "cell_type": "code",
      "metadata": {
        "id": "IPUJ-XM5S4Th",
        "colab": {
          "base_uri": "https://localhost:8080/"
        },
        "outputId": "a8e4cf00-32e6-4a9d-b6ea-8da25b089c85"
      },
      "source": [
        "# Ubah lokasi direktori kerja\n",
        "# Sesuaikan dengan path anda\n",
        "%cd /content/drive/My Drive/IR"
      ],
      "execution_count": 3,
      "outputs": [
        {
          "output_type": "stream",
          "name": "stdout",
          "text": [
            "/content/drive/My Drive/IR\n"
          ]
        }
      ]
    },
    {
      "cell_type": "code",
      "metadata": {
        "id": "69Bbmd-TCGhh",
        "colab": {
          "base_uri": "https://localhost:8080/"
        },
        "outputId": "8ab1b869-402b-4dbe-aa9c-8995a432c392"
      },
      "source": [
        "# Cek apakah api sudah terbaca oleh sistem\n",
        "!ls  "
      ],
      "execution_count": 4,
      "outputs": [
        {
          "output_type": "stream",
          "name": "stdout",
          "text": [
            "kaggle.json\n"
          ]
        }
      ]
    },
    {
      "cell_type": "code",
      "metadata": {
        "id": "emSTR53KTGW9",
        "colab": {
          "base_uri": "https://localhost:8080/"
        },
        "outputId": "dcb2cfa4-a970-4954-84ef-5bb0d266311a"
      },
      "source": [
        "!kaggle datasets download -d paultimothymooney/chest-xray-pneumonia"
      ],
      "execution_count": 5,
      "outputs": [
        {
          "output_type": "stream",
          "name": "stdout",
          "text": [
            "Downloading chest-xray-pneumonia.zip to /content/drive/My Drive/IR\n",
            " 99% 2.28G/2.29G [00:30<00:00, 42.6MB/s]\n",
            "100% 2.29G/2.29G [00:30<00:00, 81.4MB/s]\n"
          ]
        }
      ]
    },
    {
      "cell_type": "code",
      "metadata": {
        "id": "JcpagHVWbdDY",
        "colab": {
          "base_uri": "https://localhost:8080/"
        },
        "outputId": "cbbc32cb-c049-488e-977f-ef2662811159"
      },
      "source": [
        "# Cek isi direktori kerja dan memastikan dataset telah berhasil didownload.\n",
        "!ls"
      ],
      "execution_count": 6,
      "outputs": [
        {
          "output_type": "stream",
          "name": "stdout",
          "text": [
            "chest-xray-pneumonia.zip  kaggle.json\n"
          ]
        }
      ]
    },
    {
      "cell_type": "code",
      "metadata": {
        "id": "3HDyNsR3bam4"
      },
      "source": [
        "# Ekstrak file dataset dan hapus file zip dataset agar tidak memakan banyak tempat.\n",
        "!unzip \\*.zip &> /dev/null && rm *.zip"
      ],
      "execution_count": 7,
      "outputs": []
    },
    {
      "cell_type": "code",
      "metadata": {
        "id": "Vgw_k1zihmkK",
        "colab": {
          "base_uri": "https://localhost:8080/"
        },
        "outputId": "0c0fe2c9-4d88-431f-cc48-616532efa839"
      },
      "source": [
        "# Cek isi direktori kerja untuk memastikan dataset telah berhasil diekstrak.\n",
        "!ls"
      ],
      "execution_count": 8,
      "outputs": [
        {
          "output_type": "stream",
          "name": "stdout",
          "text": [
            "chest_xray  kaggle.json\n"
          ]
        }
      ]
    },
    {
      "cell_type": "code",
      "metadata": {
        "id": "HExrb2GLmkyB"
      },
      "source": [
        "import numpy as np\n",
        "import pandas as pd\n",
        "import os\n",
        "from shutil import copyfile\n",
        "\n",
        "TRAIN_DIR = \"/content/drive/MyDrive/IR/chest_xray/chest_xray/train/\"\n",
        "VALID_DIR =\"/content/drive/MyDrive/IR/chest_xray/chest_xray/val/\"\n",
        "TEST_DIR =\"/content/drive/MyDrive/IR/chest_xray/chest_xray/test/\""
      ],
      "execution_count": 9,
      "outputs": []
    },
    {
      "cell_type": "code",
      "metadata": {
        "id": "_01kRfXxbfNy"
      },
      "source": [
        "from tensorflow.keras.preprocessing.image import ImageDataGenerator\n",
        "train_generator = ImageDataGenerator(\n",
        "    rescale = 1./255,\n",
        "    horizontal_flip = True,\n",
        "    vertical_flip = True,\n",
        "    rotation_range = 90,\n",
        "    height_shift_range = 0.2,\n",
        "    width_shift_range = 0.2,\n",
        "    zoom_range = 0.2\n",
        ")\n",
        "\n",
        "test_generator = ImageDataGenerator(\n",
        "    rescale = 1./255,\n",
        "    validation_split = 0.7\n",
        ")"
      ],
      "execution_count": 10,
      "outputs": []
    },
    {
      "cell_type": "code",
      "metadata": {
        "colab": {
          "base_uri": "https://localhost:8080/"
        },
        "id": "Rkl1eGQvbRqP",
        "outputId": "5faed856-ca6d-489b-991a-f70473fc12b7"
      },
      "source": [
        "train_images = train_generator.flow_from_directory(\n",
        "    TRAIN_DIR,\n",
        "    target_size=(64, 64),\n",
        "    color_mode='rgb',\n",
        "    class_mode='categorical',\n",
        "    batch_size=32,\n",
        "    shuffle=True,\n",
        "    seed=42\n",
        ")\n",
        "val_images = test_generator.flow_from_directory(\n",
        "    VALID_DIR,\n",
        "    target_size=(64, 64),\n",
        "    color_mode='rgb',\n",
        "    class_mode='categorical',\n",
        "    batch_size=32,\n",
        "    shuffle=True,\n",
        "    seed=42,\n",
        "    subset = 'training'\n",
        ")\n",
        "\n",
        "test_images = test_generator.flow_from_directory(\n",
        "    TEST_DIR,\n",
        "    target_size=(64, 64),\n",
        "    color_mode='rgb',\n",
        "    class_mode='categorical',\n",
        "    batch_size=32,\n",
        "    shuffle=False,\n",
        "    seed=42,\n",
        "    subset = 'validation'\n",
        ")"
      ],
      "execution_count": 11,
      "outputs": [
        {
          "output_type": "stream",
          "name": "stdout",
          "text": [
            "Found 5216 images belonging to 2 classes.\n",
            "Found 6 images belonging to 2 classes.\n",
            "Found 436 images belonging to 2 classes.\n"
          ]
        }
      ]
    },
    {
      "cell_type": "code",
      "metadata": {
        "id": "H2min9ewcH4E"
      },
      "source": [
        "# TULIS KODE ANDA DISINI\n",
        "import tensorflow as tf\n",
        "from tensorflow.keras.models import Sequential, load_model\n",
        "from tensorflow.keras.layers import Dense, Conv2D, MaxPool2D, Flatten, BatchNormalization, Dropout\n",
        "model = tf.keras.models.Sequential([\n",
        "    tf.keras.layers.Conv2D(16, (3, 3), activation='relu', input_shape=(64, 64, 3)),\n",
        "    tf.keras.layers.MaxPooling2D(2, 2),\n",
        "    tf.keras.layers.Dropout(0.2),\n",
        "    tf.keras.layers.BatchNormalization(),\n",
        "    tf.keras.layers.Conv2D(16, (3, 3), activation='relu'),\n",
        "    tf.keras.layers.MaxPooling2D(2, 2),\n",
        "    tf.keras.layers.Dropout(0.2),\n",
        "    tf.keras.layers.BatchNormalization(),\n",
        "    tf.keras.layers.Conv2D(32, (3, 3), activation='relu'),\n",
        "    tf.keras.layers.MaxPooling2D(2, 2),\n",
        "    tf.keras.layers.Dropout(0.2),\n",
        "    tf.keras.layers.BatchNormalization(),\n",
        "    tf.keras.layers.Flatten(),\n",
        "    tf.keras.layers.Dense(64, activation='relu'),\n",
        "    tf.keras.layers.Dropout(0.2),\n",
        "    tf.keras.layers.BatchNormalization(),\n",
        "    tf.keras.layers.Dense(2, activation='softmax')\n",
        "])"
      ],
      "execution_count": 12,
      "outputs": []
    },
    {
      "cell_type": "code",
      "metadata": {
        "colab": {
          "base_uri": "https://localhost:8080/"
        },
        "id": "RwhgplSocH4J",
        "outputId": "78ef29f8-e00c-40a7-fefb-d3d5cc9aa958"
      },
      "source": [
        "# Print model summary\n",
        "print(model.summary())"
      ],
      "execution_count": 13,
      "outputs": [
        {
          "output_type": "stream",
          "name": "stdout",
          "text": [
            "Model: \"sequential\"\n",
            "_________________________________________________________________\n",
            " Layer (type)                Output Shape              Param #   \n",
            "=================================================================\n",
            " conv2d (Conv2D)             (None, 62, 62, 16)        448       \n",
            "                                                                 \n",
            " max_pooling2d (MaxPooling2D  (None, 31, 31, 16)       0         \n",
            " )                                                               \n",
            "                                                                 \n",
            " dropout (Dropout)           (None, 31, 31, 16)        0         \n",
            "                                                                 \n",
            " batch_normalization (BatchN  (None, 31, 31, 16)       64        \n",
            " ormalization)                                                   \n",
            "                                                                 \n",
            " conv2d_1 (Conv2D)           (None, 29, 29, 16)        2320      \n",
            "                                                                 \n",
            " max_pooling2d_1 (MaxPooling  (None, 14, 14, 16)       0         \n",
            " 2D)                                                             \n",
            "                                                                 \n",
            " dropout_1 (Dropout)         (None, 14, 14, 16)        0         \n",
            "                                                                 \n",
            " batch_normalization_1 (Batc  (None, 14, 14, 16)       64        \n",
            " hNormalization)                                                 \n",
            "                                                                 \n",
            " conv2d_2 (Conv2D)           (None, 12, 12, 32)        4640      \n",
            "                                                                 \n",
            " max_pooling2d_2 (MaxPooling  (None, 6, 6, 32)         0         \n",
            " 2D)                                                             \n",
            "                                                                 \n",
            " dropout_2 (Dropout)         (None, 6, 6, 32)          0         \n",
            "                                                                 \n",
            " batch_normalization_2 (Batc  (None, 6, 6, 32)         128       \n",
            " hNormalization)                                                 \n",
            "                                                                 \n",
            " flatten (Flatten)           (None, 1152)              0         \n",
            "                                                                 \n",
            " dense (Dense)               (None, 64)                73792     \n",
            "                                                                 \n",
            " dropout_3 (Dropout)         (None, 64)                0         \n",
            "                                                                 \n",
            " batch_normalization_3 (Batc  (None, 64)               256       \n",
            " hNormalization)                                                 \n",
            "                                                                 \n",
            " dense_1 (Dense)             (None, 2)                 130       \n",
            "                                                                 \n",
            "=================================================================\n",
            "Total params: 81,842\n",
            "Trainable params: 81,586\n",
            "Non-trainable params: 256\n",
            "_________________________________________________________________\n",
            "None\n"
          ]
        }
      ]
    },
    {
      "cell_type": "code",
      "metadata": {
        "colab": {
          "base_uri": "https://localhost:8080/"
        },
        "id": "Wan6_Gp6cH4M",
        "outputId": "d7499c87-438f-46b7-e849-c10ddc59aad0"
      },
      "source": [
        "# Compile model\n",
        "from tensorflow.keras.optimizers import Adam\n",
        "\n",
        "model.compile(optimizer=Adam(lr=0.0001), \n",
        "              loss='categorical_crossentropy', \n",
        "              metrics=['accuracy'])"
      ],
      "execution_count": 14,
      "outputs": [
        {
          "output_type": "stream",
          "name": "stderr",
          "text": [
            "/usr/local/lib/python3.7/dist-packages/keras/optimizer_v2/adam.py:105: UserWarning: The `lr` argument is deprecated, use `learning_rate` instead.\n",
            "  super(Adam, self).__init__(name, **kwargs)\n"
          ]
        }
      ]
    },
    {
      "cell_type": "code",
      "metadata": {
        "colab": {
          "base_uri": "https://localhost:8080/"
        },
        "id": "KyPH9oANcH4Q",
        "outputId": "edbc9b14-cb51-4d0a-e828-ff6b02dcffdd"
      },
      "source": [
        "history = model.fit(train_images,\n",
        "                   epochs = 100,\n",
        "                   validation_data = val_images,\n",
        "                   callbacks=[tf.keras.callbacks.ReduceLROnPlateau(\n",
        "                       monitor='val_loss',\n",
        "                       factor=0.5,\n",
        "                       patience=40,\n",
        "                       verbose = 1,\n",
        "                       mode= 'auto',\n",
        "                       cooldown = 1\n",
        "                   )])"
      ],
      "execution_count": 15,
      "outputs": [
        {
          "output_type": "stream",
          "name": "stdout",
          "text": [
            "Epoch 1/100\n",
            "163/163 [==============================] - 85s 461ms/step - loss: 0.7955 - accuracy: 0.6252 - val_loss: 1.1771 - val_accuracy: 0.5000 - lr: 1.0000e-04\n",
            "Epoch 2/100\n",
            "163/163 [==============================] - 75s 460ms/step - loss: 0.6373 - accuracy: 0.7218 - val_loss: 1.2454 - val_accuracy: 0.5000 - lr: 1.0000e-04\n",
            "Epoch 3/100\n",
            "163/163 [==============================] - 75s 458ms/step - loss: 0.5684 - accuracy: 0.7487 - val_loss: 1.1231 - val_accuracy: 0.5000 - lr: 1.0000e-04\n",
            "Epoch 4/100\n",
            "163/163 [==============================] - 74s 456ms/step - loss: 0.5289 - accuracy: 0.7799 - val_loss: 0.5224 - val_accuracy: 0.6667 - lr: 1.0000e-04\n",
            "Epoch 5/100\n",
            "163/163 [==============================] - 78s 477ms/step - loss: 0.4861 - accuracy: 0.7910 - val_loss: 0.3614 - val_accuracy: 0.8333 - lr: 1.0000e-04\n",
            "Epoch 6/100\n",
            "163/163 [==============================] - 76s 463ms/step - loss: 0.4614 - accuracy: 0.8085 - val_loss: 0.4442 - val_accuracy: 0.6667 - lr: 1.0000e-04\n",
            "Epoch 7/100\n",
            "163/163 [==============================] - 76s 463ms/step - loss: 0.4508 - accuracy: 0.8108 - val_loss: 0.3554 - val_accuracy: 0.8333 - lr: 1.0000e-04\n",
            "Epoch 8/100\n",
            "163/163 [==============================] - 77s 468ms/step - loss: 0.4303 - accuracy: 0.8188 - val_loss: 0.3614 - val_accuracy: 0.8333 - lr: 1.0000e-04\n",
            "Epoch 9/100\n",
            "163/163 [==============================] - 76s 463ms/step - loss: 0.4026 - accuracy: 0.8265 - val_loss: 0.3531 - val_accuracy: 1.0000 - lr: 1.0000e-04\n",
            "Epoch 10/100\n",
            "163/163 [==============================] - 74s 457ms/step - loss: 0.4110 - accuracy: 0.8290 - val_loss: 0.4092 - val_accuracy: 0.8333 - lr: 1.0000e-04\n",
            "Epoch 11/100\n",
            "163/163 [==============================] - 75s 458ms/step - loss: 0.3945 - accuracy: 0.8368 - val_loss: 0.4727 - val_accuracy: 0.6667 - lr: 1.0000e-04\n",
            "Epoch 12/100\n",
            "163/163 [==============================] - 75s 459ms/step - loss: 0.3824 - accuracy: 0.8344 - val_loss: 0.3644 - val_accuracy: 0.8333 - lr: 1.0000e-04\n",
            "Epoch 13/100\n",
            "163/163 [==============================] - 75s 462ms/step - loss: 0.3839 - accuracy: 0.8345 - val_loss: 0.3419 - val_accuracy: 0.8333 - lr: 1.0000e-04\n",
            "Epoch 14/100\n",
            "163/163 [==============================] - 75s 460ms/step - loss: 0.3718 - accuracy: 0.8386 - val_loss: 0.5153 - val_accuracy: 0.6667 - lr: 1.0000e-04\n",
            "Epoch 15/100\n",
            "163/163 [==============================] - 76s 469ms/step - loss: 0.3556 - accuracy: 0.8505 - val_loss: 0.3913 - val_accuracy: 0.8333 - lr: 1.0000e-04\n",
            "Epoch 16/100\n",
            "163/163 [==============================] - 76s 465ms/step - loss: 0.3586 - accuracy: 0.8405 - val_loss: 0.3554 - val_accuracy: 0.8333 - lr: 1.0000e-04\n",
            "Epoch 17/100\n",
            "163/163 [==============================] - 76s 465ms/step - loss: 0.3484 - accuracy: 0.8503 - val_loss: 0.3549 - val_accuracy: 0.8333 - lr: 1.0000e-04\n",
            "Epoch 18/100\n",
            "163/163 [==============================] - 74s 457ms/step - loss: 0.3435 - accuracy: 0.8464 - val_loss: 0.3930 - val_accuracy: 0.8333 - lr: 1.0000e-04\n",
            "Epoch 19/100\n",
            "163/163 [==============================] - 74s 457ms/step - loss: 0.3435 - accuracy: 0.8507 - val_loss: 0.2713 - val_accuracy: 1.0000 - lr: 1.0000e-04\n",
            "Epoch 20/100\n",
            "163/163 [==============================] - 75s 459ms/step - loss: 0.3430 - accuracy: 0.8480 - val_loss: 0.4114 - val_accuracy: 0.6667 - lr: 1.0000e-04\n",
            "Epoch 21/100\n",
            "163/163 [==============================] - 75s 460ms/step - loss: 0.3363 - accuracy: 0.8539 - val_loss: 0.3160 - val_accuracy: 1.0000 - lr: 1.0000e-04\n",
            "Epoch 22/100\n",
            "163/163 [==============================] - 75s 461ms/step - loss: 0.3389 - accuracy: 0.8495 - val_loss: 0.4725 - val_accuracy: 0.6667 - lr: 1.0000e-04\n",
            "Epoch 23/100\n",
            "163/163 [==============================] - 76s 467ms/step - loss: 0.3214 - accuracy: 0.8620 - val_loss: 1.0396 - val_accuracy: 0.5000 - lr: 1.0000e-04\n",
            "Epoch 24/100\n",
            "163/163 [==============================] - 75s 462ms/step - loss: 0.3229 - accuracy: 0.8554 - val_loss: 0.5409 - val_accuracy: 0.6667 - lr: 1.0000e-04\n",
            "Epoch 25/100\n",
            "163/163 [==============================] - 75s 460ms/step - loss: 0.3163 - accuracy: 0.8620 - val_loss: 0.6893 - val_accuracy: 0.5000 - lr: 1.0000e-04\n",
            "Epoch 26/100\n",
            "163/163 [==============================] - 76s 465ms/step - loss: 0.3296 - accuracy: 0.8543 - val_loss: 0.4902 - val_accuracy: 0.6667 - lr: 1.0000e-04\n",
            "Epoch 27/100\n",
            "163/163 [==============================] - 74s 455ms/step - loss: 0.3167 - accuracy: 0.8539 - val_loss: 0.6041 - val_accuracy: 0.6667 - lr: 1.0000e-04\n",
            "Epoch 28/100\n",
            "163/163 [==============================] - 74s 456ms/step - loss: 0.3022 - accuracy: 0.8706 - val_loss: 1.2007 - val_accuracy: 0.5000 - lr: 1.0000e-04\n",
            "Epoch 29/100\n",
            "163/163 [==============================] - 73s 447ms/step - loss: 0.3162 - accuracy: 0.8635 - val_loss: 0.4846 - val_accuracy: 0.6667 - lr: 1.0000e-04\n",
            "Epoch 30/100\n",
            "163/163 [==============================] - 73s 448ms/step - loss: 0.3135 - accuracy: 0.8620 - val_loss: 1.0064 - val_accuracy: 0.5000 - lr: 1.0000e-04\n",
            "Epoch 31/100\n",
            "163/163 [==============================] - 73s 446ms/step - loss: 0.3007 - accuracy: 0.8673 - val_loss: 0.4456 - val_accuracy: 0.8333 - lr: 1.0000e-04\n",
            "Epoch 32/100\n",
            "163/163 [==============================] - 73s 447ms/step - loss: 0.2850 - accuracy: 0.8729 - val_loss: 0.8091 - val_accuracy: 0.5000 - lr: 1.0000e-04\n",
            "Epoch 33/100\n",
            "163/163 [==============================] - 72s 444ms/step - loss: 0.3020 - accuracy: 0.8704 - val_loss: 0.3886 - val_accuracy: 0.8333 - lr: 1.0000e-04\n",
            "Epoch 34/100\n",
            "163/163 [==============================] - 73s 449ms/step - loss: 0.2920 - accuracy: 0.8698 - val_loss: 0.8369 - val_accuracy: 0.5000 - lr: 1.0000e-04\n",
            "Epoch 35/100\n",
            "163/163 [==============================] - 73s 448ms/step - loss: 0.3002 - accuracy: 0.8641 - val_loss: 0.4822 - val_accuracy: 0.8333 - lr: 1.0000e-04\n",
            "Epoch 36/100\n",
            "163/163 [==============================] - 73s 448ms/step - loss: 0.2968 - accuracy: 0.8700 - val_loss: 0.6461 - val_accuracy: 0.6667 - lr: 1.0000e-04\n",
            "Epoch 37/100\n",
            "163/163 [==============================] - 74s 452ms/step - loss: 0.2962 - accuracy: 0.8721 - val_loss: 0.6788 - val_accuracy: 0.5000 - lr: 1.0000e-04\n",
            "Epoch 38/100\n",
            "163/163 [==============================] - 76s 464ms/step - loss: 0.2866 - accuracy: 0.8708 - val_loss: 0.4591 - val_accuracy: 0.8333 - lr: 1.0000e-04\n",
            "Epoch 39/100\n",
            "163/163 [==============================] - 73s 448ms/step - loss: 0.2934 - accuracy: 0.8754 - val_loss: 0.3892 - val_accuracy: 0.8333 - lr: 1.0000e-04\n",
            "Epoch 40/100\n",
            "163/163 [==============================] - 72s 445ms/step - loss: 0.2909 - accuracy: 0.8721 - val_loss: 0.4930 - val_accuracy: 0.6667 - lr: 1.0000e-04\n",
            "Epoch 41/100\n",
            "163/163 [==============================] - 73s 449ms/step - loss: 0.2768 - accuracy: 0.8796 - val_loss: 0.6497 - val_accuracy: 0.8333 - lr: 1.0000e-04\n",
            "Epoch 42/100\n",
            "163/163 [==============================] - 73s 448ms/step - loss: 0.2804 - accuracy: 0.8737 - val_loss: 0.5133 - val_accuracy: 0.8333 - lr: 1.0000e-04\n",
            "Epoch 43/100\n",
            "163/163 [==============================] - 73s 449ms/step - loss: 0.2854 - accuracy: 0.8735 - val_loss: 0.9016 - val_accuracy: 0.5000 - lr: 1.0000e-04\n",
            "Epoch 44/100\n",
            "163/163 [==============================] - 73s 445ms/step - loss: 0.2796 - accuracy: 0.8802 - val_loss: 0.4989 - val_accuracy: 0.6667 - lr: 1.0000e-04\n",
            "Epoch 45/100\n",
            "163/163 [==============================] - 72s 444ms/step - loss: 0.2782 - accuracy: 0.8808 - val_loss: 0.5869 - val_accuracy: 0.8333 - lr: 1.0000e-04\n",
            "Epoch 46/100\n",
            "163/163 [==============================] - 72s 445ms/step - loss: 0.2816 - accuracy: 0.8773 - val_loss: 1.0340 - val_accuracy: 0.5000 - lr: 1.0000e-04\n",
            "Epoch 47/100\n",
            "163/163 [==============================] - 73s 446ms/step - loss: 0.2909 - accuracy: 0.8754 - val_loss: 1.0591 - val_accuracy: 0.5000 - lr: 1.0000e-04\n",
            "Epoch 48/100\n",
            "163/163 [==============================] - 73s 450ms/step - loss: 0.2720 - accuracy: 0.8823 - val_loss: 0.8252 - val_accuracy: 0.5000 - lr: 1.0000e-04\n",
            "Epoch 49/100\n",
            "163/163 [==============================] - 73s 451ms/step - loss: 0.2672 - accuracy: 0.8846 - val_loss: 0.8198 - val_accuracy: 0.5000 - lr: 1.0000e-04\n",
            "Epoch 50/100\n",
            "163/163 [==============================] - 73s 450ms/step - loss: 0.2793 - accuracy: 0.8794 - val_loss: 0.8898 - val_accuracy: 0.3333 - lr: 1.0000e-04\n",
            "Epoch 51/100\n",
            "163/163 [==============================] - 74s 452ms/step - loss: 0.2619 - accuracy: 0.8896 - val_loss: 0.8232 - val_accuracy: 0.5000 - lr: 1.0000e-04\n",
            "Epoch 52/100\n",
            "163/163 [==============================] - 73s 450ms/step - loss: 0.2763 - accuracy: 0.8804 - val_loss: 0.6916 - val_accuracy: 0.6667 - lr: 1.0000e-04\n",
            "Epoch 53/100\n",
            "163/163 [==============================] - 73s 446ms/step - loss: 0.2651 - accuracy: 0.8903 - val_loss: 1.1366 - val_accuracy: 0.3333 - lr: 1.0000e-04\n",
            "Epoch 54/100\n",
            "163/163 [==============================] - 73s 447ms/step - loss: 0.2705 - accuracy: 0.8846 - val_loss: 0.9384 - val_accuracy: 0.3333 - lr: 1.0000e-04\n",
            "Epoch 55/100\n",
            "163/163 [==============================] - 73s 449ms/step - loss: 0.2549 - accuracy: 0.8924 - val_loss: 0.9172 - val_accuracy: 0.5000 - lr: 1.0000e-04\n",
            "Epoch 56/100\n",
            "163/163 [==============================] - 73s 448ms/step - loss: 0.2620 - accuracy: 0.8867 - val_loss: 0.7343 - val_accuracy: 0.5000 - lr: 1.0000e-04\n",
            "Epoch 57/100\n",
            "163/163 [==============================] - 73s 447ms/step - loss: 0.2575 - accuracy: 0.8848 - val_loss: 1.0701 - val_accuracy: 0.3333 - lr: 1.0000e-04\n",
            "Epoch 58/100\n",
            "163/163 [==============================] - 73s 447ms/step - loss: 0.2604 - accuracy: 0.8880 - val_loss: 0.8625 - val_accuracy: 0.3333 - lr: 1.0000e-04\n",
            "Epoch 59/100\n",
            "163/163 [==============================] - ETA: 0s - loss: 0.2708 - accuracy: 0.8815\n",
            "Epoch 00059: ReduceLROnPlateau reducing learning rate to 4.999999873689376e-05.\n",
            "163/163 [==============================] - 73s 448ms/step - loss: 0.2708 - accuracy: 0.8815 - val_loss: 0.6970 - val_accuracy: 0.5000 - lr: 1.0000e-04\n",
            "Epoch 60/100\n",
            "163/163 [==============================] - 73s 450ms/step - loss: 0.2563 - accuracy: 0.8900 - val_loss: 0.8397 - val_accuracy: 0.5000 - lr: 5.0000e-05\n",
            "Epoch 61/100\n",
            "163/163 [==============================] - 73s 450ms/step - loss: 0.2521 - accuracy: 0.8953 - val_loss: 1.0917 - val_accuracy: 0.3333 - lr: 5.0000e-05\n",
            "Epoch 62/100\n",
            "163/163 [==============================] - 73s 450ms/step - loss: 0.2485 - accuracy: 0.8924 - val_loss: 0.7427 - val_accuracy: 0.3333 - lr: 5.0000e-05\n",
            "Epoch 63/100\n",
            "163/163 [==============================] - 74s 451ms/step - loss: 0.2586 - accuracy: 0.8909 - val_loss: 0.8416 - val_accuracy: 0.3333 - lr: 5.0000e-05\n",
            "Epoch 64/100\n",
            "163/163 [==============================] - 73s 450ms/step - loss: 0.2475 - accuracy: 0.8961 - val_loss: 0.7880 - val_accuracy: 0.3333 - lr: 5.0000e-05\n",
            "Epoch 65/100\n",
            "163/163 [==============================] - 73s 449ms/step - loss: 0.2469 - accuracy: 0.8953 - val_loss: 0.7903 - val_accuracy: 0.3333 - lr: 5.0000e-05\n",
            "Epoch 66/100\n",
            "163/163 [==============================] - 73s 447ms/step - loss: 0.2441 - accuracy: 0.8986 - val_loss: 1.1035 - val_accuracy: 0.1667 - lr: 5.0000e-05\n",
            "Epoch 67/100\n",
            "163/163 [==============================] - 74s 453ms/step - loss: 0.2552 - accuracy: 0.8951 - val_loss: 0.9520 - val_accuracy: 0.5000 - lr: 5.0000e-05\n",
            "Epoch 68/100\n",
            "163/163 [==============================] - 74s 451ms/step - loss: 0.2475 - accuracy: 0.8957 - val_loss: 0.8556 - val_accuracy: 0.5000 - lr: 5.0000e-05\n",
            "Epoch 69/100\n",
            "163/163 [==============================] - 73s 449ms/step - loss: 0.2407 - accuracy: 0.8986 - val_loss: 1.0135 - val_accuracy: 0.3333 - lr: 5.0000e-05\n",
            "Epoch 70/100\n",
            "163/163 [==============================] - 73s 449ms/step - loss: 0.2478 - accuracy: 0.8972 - val_loss: 1.0105 - val_accuracy: 0.5000 - lr: 5.0000e-05\n",
            "Epoch 71/100\n",
            "163/163 [==============================] - 73s 446ms/step - loss: 0.2476 - accuracy: 0.8959 - val_loss: 1.0512 - val_accuracy: 0.3333 - lr: 5.0000e-05\n",
            "Epoch 72/100\n",
            "163/163 [==============================] - 73s 450ms/step - loss: 0.2533 - accuracy: 0.8903 - val_loss: 1.0450 - val_accuracy: 0.3333 - lr: 5.0000e-05\n",
            "Epoch 73/100\n",
            "163/163 [==============================] - 73s 446ms/step - loss: 0.2503 - accuracy: 0.8907 - val_loss: 0.9366 - val_accuracy: 0.5000 - lr: 5.0000e-05\n",
            "Epoch 74/100\n",
            "163/163 [==============================] - 73s 448ms/step - loss: 0.2511 - accuracy: 0.8988 - val_loss: 0.8367 - val_accuracy: 0.5000 - lr: 5.0000e-05\n",
            "Epoch 75/100\n",
            "163/163 [==============================] - 73s 445ms/step - loss: 0.2448 - accuracy: 0.9028 - val_loss: 1.0145 - val_accuracy: 0.5000 - lr: 5.0000e-05\n",
            "Epoch 76/100\n",
            "163/163 [==============================] - 73s 448ms/step - loss: 0.2448 - accuracy: 0.8938 - val_loss: 0.9108 - val_accuracy: 0.5000 - lr: 5.0000e-05\n",
            "Epoch 77/100\n",
            "163/163 [==============================] - 73s 447ms/step - loss: 0.2416 - accuracy: 0.9020 - val_loss: 0.7958 - val_accuracy: 0.5000 - lr: 5.0000e-05\n",
            "Epoch 78/100\n",
            "163/163 [==============================] - 73s 447ms/step - loss: 0.2517 - accuracy: 0.8913 - val_loss: 1.0203 - val_accuracy: 0.3333 - lr: 5.0000e-05\n",
            "Epoch 79/100\n",
            "163/163 [==============================] - 73s 445ms/step - loss: 0.2503 - accuracy: 0.8911 - val_loss: 0.9539 - val_accuracy: 0.5000 - lr: 5.0000e-05\n",
            "Epoch 80/100\n",
            "163/163 [==============================] - 72s 445ms/step - loss: 0.2479 - accuracy: 0.8957 - val_loss: 0.8847 - val_accuracy: 0.3333 - lr: 5.0000e-05\n",
            "Epoch 81/100\n",
            "163/163 [==============================] - 73s 447ms/step - loss: 0.2401 - accuracy: 0.8946 - val_loss: 0.8461 - val_accuracy: 0.5000 - lr: 5.0000e-05\n",
            "Epoch 82/100\n",
            "163/163 [==============================] - 73s 446ms/step - loss: 0.2434 - accuracy: 0.8999 - val_loss: 0.9176 - val_accuracy: 0.3333 - lr: 5.0000e-05\n",
            "Epoch 83/100\n",
            "163/163 [==============================] - 72s 444ms/step - loss: 0.2449 - accuracy: 0.8900 - val_loss: 0.8022 - val_accuracy: 0.3333 - lr: 5.0000e-05\n",
            "Epoch 84/100\n",
            "163/163 [==============================] - 73s 446ms/step - loss: 0.2457 - accuracy: 0.8957 - val_loss: 0.9078 - val_accuracy: 0.3333 - lr: 5.0000e-05\n",
            "Epoch 85/100\n",
            "163/163 [==============================] - 72s 442ms/step - loss: 0.2424 - accuracy: 0.8993 - val_loss: 0.8948 - val_accuracy: 0.5000 - lr: 5.0000e-05\n",
            "Epoch 86/100\n",
            "163/163 [==============================] - 72s 441ms/step - loss: 0.2493 - accuracy: 0.8949 - val_loss: 0.9225 - val_accuracy: 0.5000 - lr: 5.0000e-05\n",
            "Epoch 87/100\n",
            "163/163 [==============================] - 72s 442ms/step - loss: 0.2355 - accuracy: 0.9003 - val_loss: 0.9806 - val_accuracy: 0.3333 - lr: 5.0000e-05\n",
            "Epoch 88/100\n",
            "163/163 [==============================] - 72s 440ms/step - loss: 0.2354 - accuracy: 0.9024 - val_loss: 0.9277 - val_accuracy: 0.5000 - lr: 5.0000e-05\n",
            "Epoch 89/100\n",
            "163/163 [==============================] - 72s 443ms/step - loss: 0.2359 - accuracy: 0.9018 - val_loss: 0.8850 - val_accuracy: 0.5000 - lr: 5.0000e-05\n",
            "Epoch 90/100\n",
            "163/163 [==============================] - 72s 439ms/step - loss: 0.2398 - accuracy: 0.9024 - val_loss: 0.9080 - val_accuracy: 0.5000 - lr: 5.0000e-05\n",
            "Epoch 91/100\n",
            "163/163 [==============================] - 72s 441ms/step - loss: 0.2300 - accuracy: 0.9016 - val_loss: 1.0003 - val_accuracy: 0.3333 - lr: 5.0000e-05\n",
            "Epoch 92/100\n",
            "163/163 [==============================] - 72s 439ms/step - loss: 0.2328 - accuracy: 0.9018 - val_loss: 0.8885 - val_accuracy: 0.3333 - lr: 5.0000e-05\n",
            "Epoch 93/100\n",
            "163/163 [==============================] - 72s 440ms/step - loss: 0.2423 - accuracy: 0.8978 - val_loss: 0.9094 - val_accuracy: 0.5000 - lr: 5.0000e-05\n",
            "Epoch 94/100\n",
            "163/163 [==============================] - 71s 437ms/step - loss: 0.2359 - accuracy: 0.8997 - val_loss: 0.9925 - val_accuracy: 0.5000 - lr: 5.0000e-05\n",
            "Epoch 95/100\n",
            "163/163 [==============================] - 71s 437ms/step - loss: 0.2434 - accuracy: 0.8988 - val_loss: 0.9063 - val_accuracy: 0.5000 - lr: 5.0000e-05\n",
            "Epoch 96/100\n",
            "163/163 [==============================] - 71s 438ms/step - loss: 0.2426 - accuracy: 0.8992 - val_loss: 1.1645 - val_accuracy: 0.3333 - lr: 5.0000e-05\n",
            "Epoch 97/100\n",
            "163/163 [==============================] - 71s 436ms/step - loss: 0.2293 - accuracy: 0.9036 - val_loss: 0.8751 - val_accuracy: 0.5000 - lr: 5.0000e-05\n",
            "Epoch 98/100\n",
            "163/163 [==============================] - 71s 438ms/step - loss: 0.2420 - accuracy: 0.9003 - val_loss: 0.8832 - val_accuracy: 0.3333 - lr: 5.0000e-05\n",
            "Epoch 99/100\n",
            "163/163 [==============================] - ETA: 0s - loss: 0.2460 - accuracy: 0.8947\n",
            "Epoch 00099: ReduceLROnPlateau reducing learning rate to 2.499999936844688e-05.\n",
            "163/163 [==============================] - 71s 435ms/step - loss: 0.2460 - accuracy: 0.8947 - val_loss: 0.9260 - val_accuracy: 0.5000 - lr: 5.0000e-05\n",
            "Epoch 100/100\n",
            "163/163 [==============================] - 71s 437ms/step - loss: 0.2365 - accuracy: 0.9009 - val_loss: 0.8654 - val_accuracy: 0.5000 - lr: 2.5000e-05\n"
          ]
        }
      ]
    },
    {
      "cell_type": "code",
      "metadata": {
        "id": "bmQQSokTXb2K"
      },
      "source": [
        "import matplotlib.pyplot as plt\n",
        "def eval_plot(history):\n",
        "\n",
        "  plt.figure(figsize=(14, 5))\n",
        "\n",
        "  # Accuracy plot\n",
        "  plt.subplot(1, 2, 1)\n",
        "  acc = history.history['accuracy']\n",
        "  val_acc = history.history['val_accuracy']\n",
        "  epochs = range(len(acc))\n",
        "  acc_plot, = plt.plot(epochs, acc, 'r')\n",
        "  val_acc_plot, = plt.plot(epochs, val_acc, 'b')\n",
        "  plt.title('Training and Validation Accuracy')\n",
        "  plt.legend([acc_plot, val_acc_plot], ['Training Accuracy', 'Validation Accuracy'])\n",
        "\n",
        "  # Loss plot\n",
        "  plt.subplot(1, 2, 2)\n",
        "  loss = history.history['loss']\n",
        "  val_loss = history.history['val_loss']\n",
        "  epochs = range(len(loss))\n",
        "  loss_plot, = plt.plot(epochs, loss, 'r')\n",
        "  val_loss_plot, = plt.plot(epochs, val_loss, 'b')\n",
        "  plt.title('Training and Validation Loss')\n",
        "  plt.legend([loss_plot, val_loss_plot], ['Training Loss', 'Validation Loss'])"
      ],
      "execution_count": 16,
      "outputs": []
    },
    {
      "cell_type": "code",
      "metadata": {
        "colab": {
          "base_uri": "https://localhost:8080/",
          "height": 336
        },
        "id": "mnYaUk-yXcHa",
        "outputId": "cf0af5a7-89c2-4cd1-8ae0-154bd8b36205"
      },
      "source": [
        "eval_plot(history)"
      ],
      "execution_count": 17,
      "outputs": [
        {
          "output_type": "display_data",
          "data": {
            "image/png": "[encoded data removed]",
            "text/plain": [
              "<Figure size 1008x360 with 2 Axes>"
            ]
          },
          "metadata": {
            "needs_background": "light"
          }
        }
      ]
    },
    {
      "cell_type": "code",
      "metadata": {
        "id": "lmqKtRpwYuk8"
      },
      "source": [
        "from sklearn.metrics import classification_report, confusion_matrix\n",
        "import seaborn as sns\n",
        "\n",
        "def evaluate(model):\n",
        "  valid_generator = train_generator.flow_from_directory(\n",
        "      TRAIN_DIR, \n",
        "      target_size=(64,64), \n",
        "      batch_size=32, \n",
        "      class_mode='categorical',\n",
        "      shuffle = False)\n",
        "\n",
        "  batch_size = 32\n",
        "  num_of_test_samples = len(valid_generator.filenames)\n",
        "\n",
        "  Y_pred = model.predict_generator(valid_generator, num_of_test_samples // batch_size+1)\n",
        "  y_pred = np.argmax(Y_pred, axis=1)\n",
        "\n",
        "  print('\\nConfusion Matrix\\n')\n",
        "  cm = confusion_matrix(valid_generator.classes, y_pred)\n",
        "  plt.figure(figsize=(8, 8))\n",
        "  sns.heatmap(cm, annot=True, fmt='g', vmin=0, cmap='Blues', cbar=False)\n",
        "  plt.xticks(ticks=[0.5, 1.5], labels=['NORMAL', 'PNEUMONIA'])\n",
        "  plt.yticks(ticks=[0.5, 1.5], labels=['NORMAL', 'PNEUMONIA'])\n",
        "  plt.xlabel(\"Predicted\")\n",
        "  plt.ylabel(\"Actual\")\n",
        "  plt.title(\"Confusion Matrix\")\n",
        "  plt.show()\n",
        "\n",
        "  print('\\n\\nClassification Report\\n')\n",
        "  target_names = ['NORMAL', 'PNEUMONIA']\n",
        "  print(classification_report(valid_generator.classes, y_pred, target_names=target_names))\n",
        "\n",
        "  tn, fp, fn, tp = cm.ravel()\n",
        "\n",
        "  precision = tp/(tp+fp)\n",
        "  recall = tp/(tp+fn)\n",
        "  f = 2*((precision*recall)/(precision+recall))\n",
        "\n",
        "  print(\"Recall of the model is {:.2f}\".format(recall))\n",
        "  print(\"Precision of the model is {:.2f}\".format(precision))\n",
        "  print(\"F-1 Score of the model is {:.2f}\".format(f)) "
      ],
      "execution_count": 18,
      "outputs": []
    },
    {
      "cell_type": "code",
      "metadata": {
        "colab": {
          "base_uri": "https://localhost:8080/",
          "height": 952
        },
        "id": "aqL6retvY5uM",
        "outputId": "03eac917-8eb9-4a19-cf44-20611ec28487"
      },
      "source": [
        "evaluate(model)"
      ],
      "execution_count": 19,
      "outputs": [
        {
          "output_type": "stream",
          "name": "stdout",
          "text": [
            "Found 5216 images belonging to 2 classes.\n"
          ]
        },
        {
          "output_type": "stream",
          "name": "stderr",
          "text": [
            "/usr/local/lib/python3.7/dist-packages/ipykernel_launcher.py:15: UserWarning: `Model.predict_generator` is deprecated and will be removed in a future version. Please use `Model.predict`, which supports generators.\n",
            "  from ipykernel import kernelapp as app\n"
          ]
        },
        {
          "output_type": "stream",
          "name": "stdout",
          "text": [
            "WARNING:tensorflow:Your input ran out of data; interrupting training. Make sure that your dataset or generator can generate at least `steps_per_epoch * epochs` batches (in this case, 164 batches). You may need to use the repeat() function when building your dataset.\n",
            "\n",
            "Confusion Matrix\n",
            "\n"
          ]
        },
        {
          "output_type": "display_data",
          "data": {
            "image/png": "[encoded data removed]",
            "text/plain": [
              "<Figure size 576x576 with 1 Axes>"
            ]
          },
          "metadata": {
            "needs_background": "light"
          }
        },
        {
          "output_type": "stream",
          "name": "stdout",
          "text": [
            "\n",
            "\n",
            "Classification Report\n",
            "\n",
            "              precision    recall  f1-score   support\n",
            "\n",
            "      NORMAL       0.76      0.92      0.83      1341\n",
            "   PNEUMONIA       0.97      0.90      0.93      3875\n",
            "\n",
            "    accuracy                           0.90      5216\n",
            "   macro avg       0.86      0.91      0.88      5216\n",
            "weighted avg       0.91      0.90      0.91      5216\n",
            "\n",
            "Recall of the model is 0.90\n",
            "Precision of the model is 0.97\n",
            "F-1 Score of the model is 0.93\n"
          ]
        }
      ]
    },
    {
      "cell_type": "code",
      "metadata": {
        "id": "5cB4kqA4Y6j_"
      },
      "source": [
        "# serialize model to JSON\n",
        "model_json = model.to_json()\n",
        "with open(\"IR.json\", \"w\") as json_file: json_file.write(model_json)"
      ],
      "execution_count": 20,
      "outputs": []
    },
    {
      "cell_type": "code",
      "metadata": {
        "colab": {
          "base_uri": "https://localhost:8080/"
        },
        "id": "mCe9CU-aZxqK",
        "outputId": "9c487edd-85c2-4790-9b93-5a1f46f5fb31"
      },
      "source": [
        "# serialize weights to HDF5\n",
        "model.save(\"IR.h5\")\n",
        "print(\"Saved model to disk\")"
      ],
      "execution_count": 21,
      "outputs": [
        {
          "output_type": "stream",
          "name": "stdout",
          "text": [
            "Saved model to disk\n"
          ]
        }
      ]
    }
  ]
}