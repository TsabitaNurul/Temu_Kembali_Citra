{
  "nbformat": 4,
  "nbformat_minor": 0,
  "metadata": {
    "colab": {
      "name": "TKC1.ipynb",
      "provenance": [],
      "collapsed_sections": [],
      "authorship_tag": "ABX9TyNIBoks+vYrEhdOn2LpBpAV",
      "include_colab_link": true
    },
    "kernelspec": {
      "name": "python3",
      "display_name": "Python 3"
    },
    "language_info": {
      "name": "python"
    },
    "accelerator": "GPU"
  },
  "cells": [
    {
      "cell_type": "markdown",
      "metadata": {
        "id": "view-in-github",
        "colab_type": "text"
      },
      "source": [
        "<a href=\"https://colab.research.google.com/github/TsabitaNurul/Temu_Kembali_Citra/blob/main/TKC1.ipynb\" target=\"_parent\"><img src=\"https://colab.research.google.com/assets/colab-badge.svg\" alt=\"Open In Colab\"/></a>"
      ]
    },
    {
      "cell_type": "code",
      "metadata": {
        "id": "_iP7_H-5ubtG",
        "colab": {
          "base_uri": "https://localhost:8080/"
        },
        "outputId": "cdcf03ef-267f-463c-9648-a1ee3fdf9ede"
      },
      "source": [
        "from google.colab import drive\n",
        "drive.mount('/content/drive')"
      ],
      "execution_count": 2,
      "outputs": [
        {
          "output_type": "stream",
          "name": "stdout",
          "text": [
            "Mounted at /content/drive\n"
          ]
        }
      ]
    },
    {
      "cell_type": "code",
      "metadata": {
        "id": "fWkAcnefSPKI"
      },
      "source": [
        "# Definisikan path kaggle json\n",
        "# Sesuaikan dengan path anda\n",
        "import os\n",
        "os.environ['KAGGLE_CONFIG_DIR'] = \"/content/drive/My Drive/tkc\""
      ],
      "execution_count": 3,
      "outputs": []
    },
    {
      "cell_type": "code",
      "metadata": {
        "id": "IPUJ-XM5S4Th",
        "colab": {
          "base_uri": "https://localhost:8080/"
        },
        "outputId": "c3bd484e-5b98-4336-e795-8544b3de59a7"
      },
      "source": [
        "# Ubah lokasi direktori kerja\n",
        "# Sesuaikan dengan path anda\n",
        "%cd /content/drive/My Drive/tkc"
      ],
      "execution_count": 4,
      "outputs": [
        {
          "output_type": "stream",
          "name": "stdout",
          "text": [
            "/content/drive/My Drive/tkc\n"
          ]
        }
      ]
    },
    {
      "cell_type": "code",
      "metadata": {
        "id": "69Bbmd-TCGhh",
        "colab": {
          "base_uri": "https://localhost:8080/"
        },
        "outputId": "bbb46144-0ff2-432d-ab6b-086626e9ea3e"
      },
      "source": [
        "# Cek apakah api sudah terbaca oleh sistem\n",
        "!ls  "
      ],
      "execution_count": 5,
      "outputs": [
        {
          "output_type": "stream",
          "name": "stdout",
          "text": [
            "kaggle.json\n"
          ]
        }
      ]
    },
    {
      "cell_type": "code",
      "metadata": {
        "id": "emSTR53KTGW9",
        "colab": {
          "base_uri": "https://localhost:8080/"
        },
        "outputId": "542151cb-ca1b-4913-cc83-26179ab177b1"
      },
      "source": [
        "!kaggle datasets download -d paultimothymooney/chest-xray-pneumonia"
      ],
      "execution_count": 6,
      "outputs": [
        {
          "output_type": "stream",
          "name": "stdout",
          "text": [
            "Downloading chest-xray-pneumonia.zip to /content/drive/My Drive/tkc\n",
            "100% 2.29G/2.29G [00:28<00:00, 121MB/s]\n",
            "100% 2.29G/2.29G [00:28<00:00, 86.3MB/s]\n"
          ]
        }
      ]
    },
    {
      "cell_type": "code",
      "metadata": {
        "id": "JcpagHVWbdDY",
        "colab": {
          "base_uri": "https://localhost:8080/"
        },
        "outputId": "0575636a-737e-49e6-a305-adc890e2c365"
      },
      "source": [
        "# Cek isi direktori kerja dan memastikan dataset telah berhasil didownload.\n",
        "!ls"
      ],
      "execution_count": 7,
      "outputs": [
        {
          "output_type": "stream",
          "name": "stdout",
          "text": [
            "chest-xray-pneumonia.zip  kaggle.json\n"
          ]
        }
      ]
    },
    {
      "cell_type": "code",
      "metadata": {
        "id": "3HDyNsR3bam4"
      },
      "source": [
        "# Ekstrak file dataset dan hapus file zip dataset agar tidak memakan banyak tempat.\n",
        "!unzip \\*.zip &> /dev/null && rm *.zip"
      ],
      "execution_count": 8,
      "outputs": []
    },
    {
      "cell_type": "code",
      "metadata": {
        "id": "Vgw_k1zihmkK",
        "colab": {
          "base_uri": "https://localhost:8080/"
        },
        "outputId": "d1787a9e-deba-46f6-974c-0056d3318fb9"
      },
      "source": [
        "# Cek isi direktori kerja untuk memastikan dataset telah berhasil diekstrak.\n",
        "!ls"
      ],
      "execution_count": 9,
      "outputs": [
        {
          "output_type": "stream",
          "name": "stdout",
          "text": [
            "chest_xray  kaggle.json\n"
          ]
        }
      ]
    },
    {
      "cell_type": "code",
      "metadata": {
        "id": "HExrb2GLmkyB"
      },
      "source": [
        "import numpy as np\n",
        "import pandas as pd\n",
        "import os\n",
        "from shutil import copyfile\n",
        "\n",
        "TRAIN_DIR = \"/content/drive/MyDrive/tkc/chest_xray/chest_xray/train/\"\n",
        "VALID_DIR =\"/content/drive/MyDrive/tkc/chest_xray/chest_xray/val/\"\n",
        "TEST_DIR =\"/content/drive/MyDrive/tkc/chest_xray/chest_xray/test/\""
      ],
      "execution_count": 10,
      "outputs": []
    },
    {
      "cell_type": "code",
      "metadata": {
        "id": "_01kRfXxbfNy"
      },
      "source": [
        "from tensorflow.keras.preprocessing.image import ImageDataGenerator\n",
        "train_generator = ImageDataGenerator(\n",
        "    rescale = 1./255,\n",
        "    horizontal_flip = True,\n",
        "    vertical_flip = True,\n",
        "    rotation_range = 90,\n",
        "    height_shift_range = 0.2,\n",
        "    width_shift_range = 0.2,\n",
        "    zoom_range = 0.2\n",
        ")\n",
        "\n",
        "test_generator = ImageDataGenerator(\n",
        "    rescale = 1./255,\n",
        "    validation_split = 0.7\n",
        ")"
      ],
      "execution_count": 11,
      "outputs": []
    },
    {
      "cell_type": "code",
      "metadata": {
        "colab": {
          "base_uri": "https://localhost:8080/"
        },
        "id": "Rkl1eGQvbRqP",
        "outputId": "e2a601ff-cf31-4485-a817-e0a102bcacb1"
      },
      "source": [
        "train_images = train_generator.flow_from_directory(\n",
        "    TRAIN_DIR,\n",
        "    target_size=(64, 64),\n",
        "    color_mode='rgb',\n",
        "    class_mode='categorical',\n",
        "    batch_size=32,\n",
        "    shuffle=True,\n",
        "    seed=42\n",
        ")\n",
        "val_images = test_generator.flow_from_directory(\n",
        "    VALID_DIR,\n",
        "    target_size=(64, 64),\n",
        "    color_mode='rgb',\n",
        "    class_mode='categorical',\n",
        "    batch_size=32,\n",
        "    shuffle=True,\n",
        "    seed=42,\n",
        "    subset = 'training'\n",
        ")\n",
        "\n",
        "test_images = test_generator.flow_from_directory(\n",
        "    TEST_DIR,\n",
        "    target_size=(64, 64),\n",
        "    color_mode='rgb',\n",
        "    class_mode='categorical',\n",
        "    batch_size=32,\n",
        "    shuffle=False,\n",
        "    seed=42,\n",
        "    subset = 'validation'\n",
        ")"
      ],
      "execution_count": 12,
      "outputs": [
        {
          "output_type": "stream",
          "name": "stdout",
          "text": [
            "Found 5216 images belonging to 2 classes.\n",
            "Found 6 images belonging to 2 classes.\n",
            "Found 436 images belonging to 2 classes.\n"
          ]
        }
      ]
    },
    {
      "cell_type": "markdown",
      "source": [
        "MODEL 2 Menguunakan RMSprop"
      ],
      "metadata": {
        "id": "SvzyLAGygTCY"
      }
    },
    {
      "cell_type": "code",
      "metadata": {
        "id": "H2min9ewcH4E"
      },
      "source": [
        "# TULIS KODE ANDA DISINI\n",
        "import tensorflow as tf\n",
        "from tensorflow.keras.models import Sequential, load_model\n",
        "from tensorflow.keras.layers import Dense, Conv2D, MaxPool2D, Flatten, BatchNormalization, Dropout\n",
        "model = tf.keras.models.Sequential([\n",
        "    tf.keras.layers.Conv2D(16, (3, 3), activation='relu', input_shape=(64, 64, 3)),\n",
        "    tf.keras.layers.MaxPooling2D(2, 2),\n",
        "    tf.keras.layers.Dropout(0.2),\n",
        "    tf.keras.layers.BatchNormalization(),\n",
        "    tf.keras.layers.Conv2D(16, (3, 3), activation='relu'),\n",
        "    tf.keras.layers.MaxPooling2D(2, 2),\n",
        "    tf.keras.layers.Dropout(0.2),\n",
        "    tf.keras.layers.BatchNormalization(),\n",
        "    tf.keras.layers.Conv2D(32, (3, 3), activation='relu'),\n",
        "    tf.keras.layers.MaxPooling2D(2, 2),\n",
        "    tf.keras.layers.Dropout(0.2),\n",
        "    tf.keras.layers.BatchNormalization(),\n",
        "    tf.keras.layers.Flatten(),\n",
        "    tf.keras.layers.Dense(64, activation='relu'),\n",
        "    tf.keras.layers.Dropout(0.2),\n",
        "    tf.keras.layers.BatchNormalization(),\n",
        "    tf.keras.layers.Dense(2, activation='softmax')\n",
        "])"
      ],
      "execution_count": 13,
      "outputs": []
    },
    {
      "cell_type": "code",
      "metadata": {
        "colab": {
          "base_uri": "https://localhost:8080/"
        },
        "id": "RwhgplSocH4J",
        "outputId": "783ead9e-0b75-4595-c062-10c782f131a5"
      },
      "source": [
        "# Print model summary\n",
        "print(model.summary())"
      ],
      "execution_count": 14,
      "outputs": [
        {
          "output_type": "stream",
          "name": "stdout",
          "text": [
            "Model: \"sequential\"\n",
            "_________________________________________________________________\n",
            " Layer (type)                Output Shape              Param #   \n",
            "=================================================================\n",
            " conv2d (Conv2D)             (None, 62, 62, 16)        448       \n",
            "                                                                 \n",
            " max_pooling2d (MaxPooling2D  (None, 31, 31, 16)       0         \n",
            " )                                                               \n",
            "                                                                 \n",
            " dropout (Dropout)           (None, 31, 31, 16)        0         \n",
            "                                                                 \n",
            " batch_normalization (BatchN  (None, 31, 31, 16)       64        \n",
            " ormalization)                                                   \n",
            "                                                                 \n",
            " conv2d_1 (Conv2D)           (None, 29, 29, 16)        2320      \n",
            "                                                                 \n",
            " max_pooling2d_1 (MaxPooling  (None, 14, 14, 16)       0         \n",
            " 2D)                                                             \n",
            "                                                                 \n",
            " dropout_1 (Dropout)         (None, 14, 14, 16)        0         \n",
            "                                                                 \n",
            " batch_normalization_1 (Batc  (None, 14, 14, 16)       64        \n",
            " hNormalization)                                                 \n",
            "                                                                 \n",
            " conv2d_2 (Conv2D)           (None, 12, 12, 32)        4640      \n",
            "                                                                 \n",
            " max_pooling2d_2 (MaxPooling  (None, 6, 6, 32)         0         \n",
            " 2D)                                                             \n",
            "                                                                 \n",
            " dropout_2 (Dropout)         (None, 6, 6, 32)          0         \n",
            "                                                                 \n",
            " batch_normalization_2 (Batc  (None, 6, 6, 32)         128       \n",
            " hNormalization)                                                 \n",
            "                                                                 \n",
            " flatten (Flatten)           (None, 1152)              0         \n",
            "                                                                 \n",
            " dense (Dense)               (None, 64)                73792     \n",
            "                                                                 \n",
            " dropout_3 (Dropout)         (None, 64)                0         \n",
            "                                                                 \n",
            " batch_normalization_3 (Batc  (None, 64)               256       \n",
            " hNormalization)                                                 \n",
            "                                                                 \n",
            " dense_1 (Dense)             (None, 2)                 130       \n",
            "                                                                 \n",
            "=================================================================\n",
            "Total params: 81,842\n",
            "Trainable params: 81,586\n",
            "Non-trainable params: 256\n",
            "_________________________________________________________________\n",
            "None\n"
          ]
        }
      ]
    },
    {
      "cell_type": "code",
      "metadata": {
        "colab": {
          "base_uri": "https://localhost:8080/"
        },
        "id": "Wan6_Gp6cH4M",
        "outputId": "7d35ef5b-22b0-4e08-8486-c03b23e92ca9"
      },
      "source": [
        "# Compile model\n",
        "from tensorflow.keras.optimizers import RMSprop\n",
        "\n",
        "model.compile(optimizer=RMSprop(lr=0.0001), \n",
        "              loss='categorical_crossentropy', \n",
        "              metrics=['accuracy'])"
      ],
      "execution_count": 15,
      "outputs": [
        {
          "output_type": "stream",
          "name": "stderr",
          "text": [
            "/usr/local/lib/python3.7/dist-packages/keras/optimizer_v2/rmsprop.py:130: UserWarning: The `lr` argument is deprecated, use `learning_rate` instead.\n",
            "  super(RMSprop, self).__init__(name, **kwargs)\n"
          ]
        }
      ]
    },
    {
      "cell_type": "code",
      "metadata": {
        "colab": {
          "base_uri": "https://localhost:8080/"
        },
        "id": "KyPH9oANcH4Q",
        "outputId": "f863a626-e78a-4983-f2fe-4e40d19c8008"
      },
      "source": [
        "history = model.fit(train_images,\n",
        "                   epochs = 100,\n",
        "                   validation_data = val_images,\n",
        "                   callbacks=[tf.keras.callbacks.ReduceLROnPlateau(\n",
        "                       monitor='val_loss',\n",
        "                       factor=0.5,\n",
        "                       patience=40,\n",
        "                       verbose = 1,\n",
        "                       mode= 'auto',\n",
        "                       cooldown = 1\n",
        "                   )])"
      ],
      "execution_count": 16,
      "outputs": [
        {
          "output_type": "stream",
          "name": "stdout",
          "text": [
            "Epoch 1/100\n",
            "163/163 [==============================] - 98s 537ms/step - loss: 0.9328 - accuracy: 0.5389 - val_loss: 1.2642 - val_accuracy: 0.5000 - lr: 1.0000e-04\n",
            "Epoch 2/100\n",
            "163/163 [==============================] - 93s 572ms/step - loss: 0.7444 - accuracy: 0.6325 - val_loss: 2.1443 - val_accuracy: 0.5000 - lr: 1.0000e-04\n",
            "Epoch 3/100\n",
            "163/163 [==============================] - 86s 528ms/step - loss: 0.6229 - accuracy: 0.6963 - val_loss: 2.1223 - val_accuracy: 0.5000 - lr: 1.0000e-04\n",
            "Epoch 4/100\n",
            "163/163 [==============================] - 86s 526ms/step - loss: 0.5623 - accuracy: 0.7419 - val_loss: 1.5582 - val_accuracy: 0.5000 - lr: 1.0000e-04\n",
            "Epoch 5/100\n",
            "163/163 [==============================] - 86s 526ms/step - loss: 0.5031 - accuracy: 0.7632 - val_loss: 1.0778 - val_accuracy: 0.5000 - lr: 1.0000e-04\n",
            "Epoch 6/100\n",
            "163/163 [==============================] - 86s 525ms/step - loss: 0.4835 - accuracy: 0.7751 - val_loss: 0.7427 - val_accuracy: 0.6667 - lr: 1.0000e-04\n",
            "Epoch 7/100\n",
            "163/163 [==============================] - 87s 534ms/step - loss: 0.4506 - accuracy: 0.7920 - val_loss: 0.7143 - val_accuracy: 0.6667 - lr: 1.0000e-04\n",
            "Epoch 8/100\n",
            "163/163 [==============================] - 85s 519ms/step - loss: 0.4275 - accuracy: 0.8092 - val_loss: 0.7402 - val_accuracy: 0.5000 - lr: 1.0000e-04\n",
            "Epoch 9/100\n",
            "163/163 [==============================] - 86s 529ms/step - loss: 0.4063 - accuracy: 0.8184 - val_loss: 0.7272 - val_accuracy: 0.5000 - lr: 1.0000e-04\n",
            "Epoch 10/100\n",
            "163/163 [==============================] - 86s 531ms/step - loss: 0.4030 - accuracy: 0.8167 - val_loss: 0.5882 - val_accuracy: 0.6667 - lr: 1.0000e-04\n",
            "Epoch 11/100\n",
            "163/163 [==============================] - 86s 525ms/step - loss: 0.3779 - accuracy: 0.8378 - val_loss: 0.4548 - val_accuracy: 0.8333 - lr: 1.0000e-04\n",
            "Epoch 12/100\n",
            "163/163 [==============================] - 84s 515ms/step - loss: 0.3725 - accuracy: 0.8351 - val_loss: 0.4061 - val_accuracy: 0.8333 - lr: 1.0000e-04\n",
            "Epoch 13/100\n",
            "163/163 [==============================] - 83s 511ms/step - loss: 0.3716 - accuracy: 0.8380 - val_loss: 0.4378 - val_accuracy: 0.6667 - lr: 1.0000e-04\n",
            "Epoch 14/100\n",
            "163/163 [==============================] - 83s 512ms/step - loss: 0.3696 - accuracy: 0.8372 - val_loss: 0.4342 - val_accuracy: 1.0000 - lr: 1.0000e-04\n",
            "Epoch 15/100\n",
            "163/163 [==============================] - 84s 515ms/step - loss: 0.3599 - accuracy: 0.8407 - val_loss: 0.5644 - val_accuracy: 0.5000 - lr: 1.0000e-04\n",
            "Epoch 16/100\n",
            "163/163 [==============================] - 83s 509ms/step - loss: 0.3401 - accuracy: 0.8455 - val_loss: 0.4400 - val_accuracy: 1.0000 - lr: 1.0000e-04\n",
            "Epoch 17/100\n",
            "163/163 [==============================] - 84s 516ms/step - loss: 0.3424 - accuracy: 0.8478 - val_loss: 0.5125 - val_accuracy: 0.6667 - lr: 1.0000e-04\n",
            "Epoch 18/100\n",
            "163/163 [==============================] - 81s 496ms/step - loss: 0.3448 - accuracy: 0.8443 - val_loss: 0.5935 - val_accuracy: 0.6667 - lr: 1.0000e-04\n",
            "Epoch 19/100\n",
            "163/163 [==============================] - 82s 499ms/step - loss: 0.3367 - accuracy: 0.8499 - val_loss: 0.5421 - val_accuracy: 0.6667 - lr: 1.0000e-04\n",
            "Epoch 20/100\n",
            "163/163 [==============================] - 81s 496ms/step - loss: 0.3288 - accuracy: 0.8543 - val_loss: 0.4404 - val_accuracy: 1.0000 - lr: 1.0000e-04\n",
            "Epoch 21/100\n",
            "163/163 [==============================] - 83s 508ms/step - loss: 0.3278 - accuracy: 0.8547 - val_loss: 0.4739 - val_accuracy: 0.6667 - lr: 1.0000e-04\n",
            "Epoch 22/100\n",
            "163/163 [==============================] - 83s 509ms/step - loss: 0.3397 - accuracy: 0.8487 - val_loss: 0.7163 - val_accuracy: 0.5000 - lr: 1.0000e-04\n",
            "Epoch 23/100\n",
            "163/163 [==============================] - 81s 498ms/step - loss: 0.3167 - accuracy: 0.8614 - val_loss: 0.8143 - val_accuracy: 0.5000 - lr: 1.0000e-04\n",
            "Epoch 24/100\n",
            "163/163 [==============================] - 83s 507ms/step - loss: 0.3157 - accuracy: 0.8579 - val_loss: 0.8536 - val_accuracy: 0.5000 - lr: 1.0000e-04\n",
            "Epoch 25/100\n",
            "163/163 [==============================] - 83s 508ms/step - loss: 0.3076 - accuracy: 0.8622 - val_loss: 0.8076 - val_accuracy: 0.5000 - lr: 1.0000e-04\n",
            "Epoch 26/100\n",
            "163/163 [==============================] - 83s 508ms/step - loss: 0.3074 - accuracy: 0.8645 - val_loss: 0.4612 - val_accuracy: 0.6667 - lr: 1.0000e-04\n",
            "Epoch 27/100\n",
            "163/163 [==============================] - 82s 503ms/step - loss: 0.3092 - accuracy: 0.8608 - val_loss: 0.5880 - val_accuracy: 0.6667 - lr: 1.0000e-04\n",
            "Epoch 28/100\n",
            "163/163 [==============================] - 82s 502ms/step - loss: 0.3052 - accuracy: 0.8599 - val_loss: 0.7777 - val_accuracy: 0.5000 - lr: 1.0000e-04\n",
            "Epoch 29/100\n",
            "163/163 [==============================] - 82s 504ms/step - loss: 0.3156 - accuracy: 0.8564 - val_loss: 0.6501 - val_accuracy: 0.5000 - lr: 1.0000e-04\n",
            "Epoch 30/100\n",
            "163/163 [==============================] - 82s 500ms/step - loss: 0.3016 - accuracy: 0.8656 - val_loss: 0.4984 - val_accuracy: 0.6667 - lr: 1.0000e-04\n",
            "Epoch 31/100\n",
            "163/163 [==============================] - 81s 497ms/step - loss: 0.3023 - accuracy: 0.8610 - val_loss: 0.8467 - val_accuracy: 0.5000 - lr: 1.0000e-04\n",
            "Epoch 32/100\n",
            "163/163 [==============================] - 82s 503ms/step - loss: 0.3039 - accuracy: 0.8677 - val_loss: 0.4407 - val_accuracy: 0.8333 - lr: 1.0000e-04\n",
            "Epoch 33/100\n",
            "163/163 [==============================] - 83s 507ms/step - loss: 0.2969 - accuracy: 0.8714 - val_loss: 0.3714 - val_accuracy: 0.8333 - lr: 1.0000e-04\n",
            "Epoch 34/100\n",
            "163/163 [==============================] - 82s 505ms/step - loss: 0.2954 - accuracy: 0.8702 - val_loss: 0.3887 - val_accuracy: 0.8333 - lr: 1.0000e-04\n",
            "Epoch 35/100\n",
            "163/163 [==============================] - 82s 506ms/step - loss: 0.2948 - accuracy: 0.8748 - val_loss: 0.7003 - val_accuracy: 0.5000 - lr: 1.0000e-04\n",
            "Epoch 36/100\n",
            "163/163 [==============================] - 81s 498ms/step - loss: 0.3002 - accuracy: 0.8646 - val_loss: 0.5631 - val_accuracy: 0.6667 - lr: 1.0000e-04\n",
            "Epoch 37/100\n",
            "163/163 [==============================] - 82s 504ms/step - loss: 0.2943 - accuracy: 0.8650 - val_loss: 0.3459 - val_accuracy: 1.0000 - lr: 1.0000e-04\n",
            "Epoch 38/100\n",
            "163/163 [==============================] - 82s 505ms/step - loss: 0.2877 - accuracy: 0.8698 - val_loss: 0.4756 - val_accuracy: 0.8333 - lr: 1.0000e-04\n",
            "Epoch 39/100\n",
            "163/163 [==============================] - 84s 513ms/step - loss: 0.2870 - accuracy: 0.8723 - val_loss: 0.4937 - val_accuracy: 0.8333 - lr: 1.0000e-04\n",
            "Epoch 40/100\n",
            "163/163 [==============================] - 83s 507ms/step - loss: 0.2837 - accuracy: 0.8762 - val_loss: 0.4713 - val_accuracy: 0.8333 - lr: 1.0000e-04\n",
            "Epoch 41/100\n",
            "163/163 [==============================] - 84s 518ms/step - loss: 0.2738 - accuracy: 0.8798 - val_loss: 0.6936 - val_accuracy: 0.6667 - lr: 1.0000e-04\n",
            "Epoch 42/100\n",
            "163/163 [==============================] - 83s 511ms/step - loss: 0.2841 - accuracy: 0.8794 - val_loss: 0.5289 - val_accuracy: 0.8333 - lr: 1.0000e-04\n",
            "Epoch 43/100\n",
            "163/163 [==============================] - 83s 510ms/step - loss: 0.2751 - accuracy: 0.8838 - val_loss: 0.4803 - val_accuracy: 0.8333 - lr: 1.0000e-04\n",
            "Epoch 44/100\n",
            "163/163 [==============================] - 84s 518ms/step - loss: 0.2778 - accuracy: 0.8834 - val_loss: 0.6458 - val_accuracy: 0.6667 - lr: 1.0000e-04\n",
            "Epoch 45/100\n",
            "163/163 [==============================] - 82s 503ms/step - loss: 0.2685 - accuracy: 0.8869 - val_loss: 0.8478 - val_accuracy: 0.5000 - lr: 1.0000e-04\n",
            "Epoch 46/100\n",
            "163/163 [==============================] - 82s 503ms/step - loss: 0.2804 - accuracy: 0.8798 - val_loss: 0.4971 - val_accuracy: 0.8333 - lr: 1.0000e-04\n",
            "Epoch 47/100\n",
            "163/163 [==============================] - 83s 512ms/step - loss: 0.2685 - accuracy: 0.8832 - val_loss: 0.6009 - val_accuracy: 0.8333 - lr: 1.0000e-04\n",
            "Epoch 48/100\n",
            "163/163 [==============================] - 85s 520ms/step - loss: 0.2783 - accuracy: 0.8788 - val_loss: 0.5351 - val_accuracy: 0.8333 - lr: 1.0000e-04\n",
            "Epoch 49/100\n",
            "163/163 [==============================] - 84s 517ms/step - loss: 0.2593 - accuracy: 0.8903 - val_loss: 0.4783 - val_accuracy: 0.8333 - lr: 1.0000e-04\n",
            "Epoch 50/100\n",
            "163/163 [==============================] - 85s 518ms/step - loss: 0.2770 - accuracy: 0.8842 - val_loss: 0.5669 - val_accuracy: 0.8333 - lr: 1.0000e-04\n",
            "Epoch 51/100\n",
            "163/163 [==============================] - 85s 521ms/step - loss: 0.2664 - accuracy: 0.8838 - val_loss: 0.4902 - val_accuracy: 0.8333 - lr: 1.0000e-04\n",
            "Epoch 52/100\n",
            "163/163 [==============================] - 85s 520ms/step - loss: 0.2615 - accuracy: 0.8942 - val_loss: 0.5297 - val_accuracy: 0.6667 - lr: 1.0000e-04\n",
            "Epoch 53/100\n",
            "163/163 [==============================] - 85s 519ms/step - loss: 0.2606 - accuracy: 0.8953 - val_loss: 0.8863 - val_accuracy: 0.5000 - lr: 1.0000e-04\n",
            "Epoch 54/100\n",
            "163/163 [==============================] - 82s 503ms/step - loss: 0.2618 - accuracy: 0.8871 - val_loss: 0.5510 - val_accuracy: 0.5000 - lr: 1.0000e-04\n",
            "Epoch 55/100\n",
            "163/163 [==============================] - 81s 495ms/step - loss: 0.2516 - accuracy: 0.8919 - val_loss: 0.8102 - val_accuracy: 0.5000 - lr: 1.0000e-04\n",
            "Epoch 56/100\n",
            "163/163 [==============================] - 80s 492ms/step - loss: 0.2566 - accuracy: 0.8896 - val_loss: 0.5256 - val_accuracy: 0.5000 - lr: 1.0000e-04\n",
            "Epoch 57/100\n",
            "163/163 [==============================] - 80s 492ms/step - loss: 0.2596 - accuracy: 0.8886 - val_loss: 0.4702 - val_accuracy: 0.8333 - lr: 1.0000e-04\n",
            "Epoch 58/100\n",
            "163/163 [==============================] - 81s 496ms/step - loss: 0.2504 - accuracy: 0.8988 - val_loss: 0.5751 - val_accuracy: 0.8333 - lr: 1.0000e-04\n",
            "Epoch 59/100\n",
            "163/163 [==============================] - 78s 481ms/step - loss: 0.2605 - accuracy: 0.8936 - val_loss: 0.5237 - val_accuracy: 0.6667 - lr: 1.0000e-04\n",
            "Epoch 60/100\n",
            "163/163 [==============================] - 78s 478ms/step - loss: 0.2501 - accuracy: 0.8936 - val_loss: 0.5986 - val_accuracy: 0.8333 - lr: 1.0000e-04\n",
            "Epoch 61/100\n",
            "163/163 [==============================] - 77s 474ms/step - loss: 0.2593 - accuracy: 0.8921 - val_loss: 0.6127 - val_accuracy: 0.6667 - lr: 1.0000e-04\n",
            "Epoch 62/100\n",
            "163/163 [==============================] - 78s 478ms/step - loss: 0.2405 - accuracy: 0.8965 - val_loss: 0.6368 - val_accuracy: 0.6667 - lr: 1.0000e-04\n",
            "Epoch 63/100\n",
            "163/163 [==============================] - 78s 478ms/step - loss: 0.2582 - accuracy: 0.8903 - val_loss: 0.6434 - val_accuracy: 0.6667 - lr: 1.0000e-04\n",
            "Epoch 64/100\n",
            "163/163 [==============================] - 77s 472ms/step - loss: 0.2524 - accuracy: 0.8903 - val_loss: 0.6263 - val_accuracy: 0.6667 - lr: 1.0000e-04\n",
            "Epoch 65/100\n",
            "163/163 [==============================] - 78s 477ms/step - loss: 0.2491 - accuracy: 0.8951 - val_loss: 0.6908 - val_accuracy: 0.6667 - lr: 1.0000e-04\n",
            "Epoch 66/100\n",
            "163/163 [==============================] - 80s 491ms/step - loss: 0.2431 - accuracy: 0.8993 - val_loss: 0.5960 - val_accuracy: 0.8333 - lr: 1.0000e-04\n",
            "Epoch 67/100\n",
            "163/163 [==============================] - 77s 475ms/step - loss: 0.2491 - accuracy: 0.8928 - val_loss: 0.5953 - val_accuracy: 0.8333 - lr: 1.0000e-04\n",
            "Epoch 68/100\n",
            "163/163 [==============================] - 77s 475ms/step - loss: 0.2526 - accuracy: 0.8928 - val_loss: 0.6795 - val_accuracy: 0.5000 - lr: 1.0000e-04\n",
            "Epoch 69/100\n",
            "163/163 [==============================] - 78s 480ms/step - loss: 0.2451 - accuracy: 0.8986 - val_loss: 0.5959 - val_accuracy: 0.6667 - lr: 1.0000e-04\n",
            "Epoch 70/100\n",
            "163/163 [==============================] - 78s 476ms/step - loss: 0.2497 - accuracy: 0.8967 - val_loss: 0.6635 - val_accuracy: 0.6667 - lr: 1.0000e-04\n",
            "Epoch 71/100\n",
            "163/163 [==============================] - 79s 481ms/step - loss: 0.2426 - accuracy: 0.8913 - val_loss: 0.7074 - val_accuracy: 0.6667 - lr: 1.0000e-04\n",
            "Epoch 72/100\n",
            "163/163 [==============================] - 77s 474ms/step - loss: 0.2462 - accuracy: 0.8980 - val_loss: 0.6615 - val_accuracy: 0.8333 - lr: 1.0000e-04\n",
            "Epoch 73/100\n",
            "163/163 [==============================] - 77s 470ms/step - loss: 0.2488 - accuracy: 0.8972 - val_loss: 0.5104 - val_accuracy: 0.8333 - lr: 1.0000e-04\n",
            "Epoch 74/100\n",
            "163/163 [==============================] - 79s 483ms/step - loss: 0.2339 - accuracy: 0.9036 - val_loss: 0.6141 - val_accuracy: 0.6667 - lr: 1.0000e-04\n",
            "Epoch 75/100\n",
            "163/163 [==============================] - 79s 482ms/step - loss: 0.2404 - accuracy: 0.9038 - val_loss: 0.6598 - val_accuracy: 0.6667 - lr: 1.0000e-04\n",
            "Epoch 76/100\n",
            "163/163 [==============================] - 78s 478ms/step - loss: 0.2468 - accuracy: 0.8938 - val_loss: 0.6879 - val_accuracy: 0.5000 - lr: 1.0000e-04\n",
            "Epoch 77/100\n",
            "163/163 [==============================] - ETA: 0s - loss: 0.2478 - accuracy: 0.8986\n",
            "Epoch 00077: ReduceLROnPlateau reducing learning rate to 4.999999873689376e-05.\n",
            "163/163 [==============================] - 78s 475ms/step - loss: 0.2478 - accuracy: 0.8986 - val_loss: 0.6409 - val_accuracy: 0.6667 - lr: 1.0000e-04\n",
            "Epoch 78/100\n",
            "163/163 [==============================] - 78s 480ms/step - loss: 0.2429 - accuracy: 0.9013 - val_loss: 0.6537 - val_accuracy: 0.6667 - lr: 5.0000e-05\n",
            "Epoch 79/100\n",
            "163/163 [==============================] - 78s 481ms/step - loss: 0.2404 - accuracy: 0.8953 - val_loss: 0.5638 - val_accuracy: 0.5000 - lr: 5.0000e-05\n",
            "Epoch 80/100\n",
            "163/163 [==============================] - 78s 478ms/step - loss: 0.2360 - accuracy: 0.9049 - val_loss: 0.6774 - val_accuracy: 0.6667 - lr: 5.0000e-05\n",
            "Epoch 81/100\n",
            "163/163 [==============================] - 79s 483ms/step - loss: 0.2349 - accuracy: 0.9020 - val_loss: 0.6665 - val_accuracy: 0.6667 - lr: 5.0000e-05\n",
            "Epoch 82/100\n",
            "163/163 [==============================] - 78s 481ms/step - loss: 0.2373 - accuracy: 0.8972 - val_loss: 0.6883 - val_accuracy: 0.6667 - lr: 5.0000e-05\n",
            "Epoch 83/100\n",
            "163/163 [==============================] - 80s 494ms/step - loss: 0.2389 - accuracy: 0.8980 - val_loss: 0.7527 - val_accuracy: 0.6667 - lr: 5.0000e-05\n",
            "Epoch 84/100\n",
            "163/163 [==============================] - 79s 482ms/step - loss: 0.2330 - accuracy: 0.9011 - val_loss: 0.6462 - val_accuracy: 0.6667 - lr: 5.0000e-05\n",
            "Epoch 85/100\n",
            "163/163 [==============================] - 80s 488ms/step - loss: 0.2347 - accuracy: 0.9055 - val_loss: 0.8307 - val_accuracy: 0.5000 - lr: 5.0000e-05\n",
            "Epoch 86/100\n",
            "163/163 [==============================] - 82s 505ms/step - loss: 0.2327 - accuracy: 0.9026 - val_loss: 0.8096 - val_accuracy: 0.5000 - lr: 5.0000e-05\n",
            "Epoch 87/100\n",
            "163/163 [==============================] - 81s 500ms/step - loss: 0.2357 - accuracy: 0.9005 - val_loss: 0.6424 - val_accuracy: 0.5000 - lr: 5.0000e-05\n",
            "Epoch 88/100\n",
            "163/163 [==============================] - 81s 498ms/step - loss: 0.2312 - accuracy: 0.9045 - val_loss: 0.6640 - val_accuracy: 0.6667 - lr: 5.0000e-05\n",
            "Epoch 89/100\n",
            "163/163 [==============================] - 81s 495ms/step - loss: 0.2369 - accuracy: 0.9024 - val_loss: 0.6710 - val_accuracy: 0.6667 - lr: 5.0000e-05\n",
            "Epoch 90/100\n",
            "163/163 [==============================] - 81s 495ms/step - loss: 0.2324 - accuracy: 0.9020 - val_loss: 0.7170 - val_accuracy: 0.6667 - lr: 5.0000e-05\n",
            "Epoch 91/100\n",
            "163/163 [==============================] - 82s 502ms/step - loss: 0.2295 - accuracy: 0.9018 - val_loss: 0.7135 - val_accuracy: 0.6667 - lr: 5.0000e-05\n",
            "Epoch 92/100\n",
            "163/163 [==============================] - 80s 489ms/step - loss: 0.2301 - accuracy: 0.9007 - val_loss: 0.6191 - val_accuracy: 0.6667 - lr: 5.0000e-05\n",
            "Epoch 93/100\n",
            "163/163 [==============================] - 79s 482ms/step - loss: 0.2375 - accuracy: 0.9053 - val_loss: 0.6849 - val_accuracy: 0.5000 - lr: 5.0000e-05\n",
            "Epoch 94/100\n",
            "163/163 [==============================] - 80s 491ms/step - loss: 0.2312 - accuracy: 0.9028 - val_loss: 0.6694 - val_accuracy: 0.6667 - lr: 5.0000e-05\n",
            "Epoch 95/100\n",
            "163/163 [==============================] - 79s 484ms/step - loss: 0.2361 - accuracy: 0.9045 - val_loss: 0.6319 - val_accuracy: 0.5000 - lr: 5.0000e-05\n",
            "Epoch 96/100\n",
            "163/163 [==============================] - 77s 470ms/step - loss: 0.2355 - accuracy: 0.9016 - val_loss: 0.8034 - val_accuracy: 0.5000 - lr: 5.0000e-05\n",
            "Epoch 97/100\n",
            "163/163 [==============================] - 79s 483ms/step - loss: 0.2327 - accuracy: 0.9032 - val_loss: 0.7077 - val_accuracy: 0.5000 - lr: 5.0000e-05\n",
            "Epoch 98/100\n",
            "163/163 [==============================] - 81s 495ms/step - loss: 0.2365 - accuracy: 0.8999 - val_loss: 0.7605 - val_accuracy: 0.6667 - lr: 5.0000e-05\n",
            "Epoch 99/100\n",
            "163/163 [==============================] - 81s 496ms/step - loss: 0.2379 - accuracy: 0.8997 - val_loss: 0.7150 - val_accuracy: 0.6667 - lr: 5.0000e-05\n",
            "Epoch 100/100\n",
            "163/163 [==============================] - 79s 484ms/step - loss: 0.2320 - accuracy: 0.9068 - val_loss: 0.7143 - val_accuracy: 0.6667 - lr: 5.0000e-05\n"
          ]
        }
      ]
    },
    {
      "cell_type": "code",
      "metadata": {
        "id": "bmQQSokTXb2K"
      },
      "source": [
        "import matplotlib.pyplot as plt\n",
        "def eval_plot(history):\n",
        "\n",
        "  plt.figure(figsize=(14, 5))\n",
        "\n",
        "  # Accuracy plot\n",
        "  plt.subplot(1, 2, 1)\n",
        "  acc = history.history['accuracy']\n",
        "  val_acc = history.history['val_accuracy']\n",
        "  epochs = range(len(acc))\n",
        "  acc_plot, = plt.plot(epochs, acc, 'r')\n",
        "  val_acc_plot, = plt.plot(epochs, val_acc, 'b')\n",
        "  plt.title('Training and Validation Accuracy')\n",
        "  plt.legend([acc_plot, val_acc_plot], ['Training Accuracy', 'Validation Accuracy'])\n",
        "\n",
        "  # Loss plot\n",
        "  plt.subplot(1, 2, 2)\n",
        "  loss = history.history['loss']\n",
        "  val_loss = history.history['val_loss']\n",
        "  epochs = range(len(loss))\n",
        "  loss_plot, = plt.plot(epochs, loss, 'r')\n",
        "  val_loss_plot, = plt.plot(epochs, val_loss, 'b')\n",
        "  plt.title('Training and Validation Loss')\n",
        "  plt.legend([loss_plot, val_loss_plot], ['Training Loss', 'Validation Loss'])"
      ],
      "execution_count": 17,
      "outputs": []
    },
    {
      "cell_type": "code",
      "metadata": {
        "colab": {
          "base_uri": "https://localhost:8080/",
          "height": 336
        },
        "id": "mnYaUk-yXcHa",
        "outputId": "5528b5b1-b1ca-4e1f-bdcf-6c83a80387fb"
      },
      "source": [
        "eval_plot(history)"
      ],
      "execution_count": 18,
      "outputs": [
        {
          "output_type": "display_data",
          "data": {
            "image/png": "[encoded data removed]",
            "text/plain": [
              "<Figure size 1008x360 with 2 Axes>"
            ]
          },
          "metadata": {
            "needs_background": "light"
          }
        }
      ]
    },
    {
      "cell_type": "code",
      "metadata": {
        "id": "lmqKtRpwYuk8"
      },
      "source": [
        "from sklearn.metrics import classification_report, confusion_matrix\n",
        "import seaborn as sns\n",
        "\n",
        "def evaluate(model):\n",
        "  valid_generator = train_generator.flow_from_directory(\n",
        "      TRAIN_DIR, \n",
        "      target_size=(64,64), \n",
        "      batch_size=32, \n",
        "      class_mode='categorical',\n",
        "      shuffle = False)\n",
        "\n",
        "  batch_size = 32\n",
        "  num_of_test_samples = len(valid_generator.filenames)\n",
        "\n",
        "  Y_pred = model.predict_generator(valid_generator, num_of_test_samples // batch_size+1)\n",
        "  y_pred = np.argmax(Y_pred, axis=1)\n",
        "\n",
        "  print('\\nConfusion Matrix\\n')\n",
        "  cm = confusion_matrix(valid_generator.classes, y_pred)\n",
        "  plt.figure(figsize=(8, 8))\n",
        "  sns.heatmap(cm, annot=True, fmt='g', vmin=0, cmap='Blues', cbar=False)\n",
        "  plt.xticks(ticks=[0.5, 1.5], labels=['NORMAL', 'PNEUMONIA'])\n",
        "  plt.yticks(ticks=[0.5, 1.5], labels=['NORMAL', 'PNEUMONIA'])\n",
        "  plt.xlabel(\"Predicted\")\n",
        "  plt.ylabel(\"Actual\")\n",
        "  plt.title(\"Confusion Matrix\")\n",
        "  plt.show()\n",
        "\n",
        "  print('\\n\\nClassification Report\\n')\n",
        "  target_names = ['NORMAL', 'PNEUMONIA']\n",
        "  print(classification_report(valid_generator.classes, y_pred, target_names=target_names))\n",
        "\n",
        "  tn, fp, fn, tp = cm.ravel()\n",
        "\n",
        "  precision = tp/(tp+fp)\n",
        "  recall = tp/(tp+fn)\n",
        "  f = 2*((precision*recall)/(precision+recall))\n",
        "\n",
        "  print(\"Recall of the model is {:.2f}\".format(recall))\n",
        "  print(\"Precision of the model is {:.2f}\".format(precision))\n",
        "  print(\"F-1 Score of the model is {:.2f}\".format(f)) "
      ],
      "execution_count": 19,
      "outputs": []
    },
    {
      "cell_type": "code",
      "metadata": {
        "colab": {
          "base_uri": "https://localhost:8080/",
          "height": 952
        },
        "id": "aqL6retvY5uM",
        "outputId": "e9f237d2-5b63-49f0-c3bd-65b415e9658d"
      },
      "source": [
        "evaluate(model)"
      ],
      "execution_count": 20,
      "outputs": [
        {
          "output_type": "stream",
          "name": "stdout",
          "text": [
            "Found 5216 images belonging to 2 classes.\n"
          ]
        },
        {
          "output_type": "stream",
          "name": "stderr",
          "text": [
            "/usr/local/lib/python3.7/dist-packages/ipykernel_launcher.py:15: UserWarning: `Model.predict_generator` is deprecated and will be removed in a future version. Please use `Model.predict`, which supports generators.\n",
            "  from ipykernel import kernelapp as app\n"
          ]
        },
        {
          "output_type": "stream",
          "name": "stdout",
          "text": [
            "WARNING:tensorflow:Your input ran out of data; interrupting training. Make sure that your dataset or generator can generate at least `steps_per_epoch * epochs` batches (in this case, 164 batches). You may need to use the repeat() function when building your dataset.\n",
            "\n",
            "Confusion Matrix\n",
            "\n"
          ]
        },
        {
          "output_type": "display_data",
          "data": {
            "image/png": "[encoded data removed]",
            "text/plain": [
              "<Figure size 576x576 with 1 Axes>"
            ]
          },
          "metadata": {
            "needs_background": "light"
          }
        },
        {
          "output_type": "stream",
          "name": "stdout",
          "text": [
            "\n",
            "\n",
            "Classification Report\n",
            "\n",
            "              precision    recall  f1-score   support\n",
            "\n",
            "      NORMAL       0.70      0.94      0.81      1341\n",
            "   PNEUMONIA       0.98      0.86      0.92      3875\n",
            "\n",
            "    accuracy                           0.88      5216\n",
            "   macro avg       0.84      0.90      0.86      5216\n",
            "weighted avg       0.91      0.88      0.89      5216\n",
            "\n",
            "Recall of the model is 0.86\n",
            "Precision of the model is 0.98\n",
            "F-1 Score of the model is 0.92\n"
          ]
        }
      ]
    },
    {
      "cell_type": "code",
      "source": [
        "# serialize model to JSON\n",
        "model_json = model.to_json()\n",
        "with open(\"RMSprop.json\", \"w\") as json_file: json_file.write(model_json)"
      ],
      "metadata": {
        "id": "xwhh8q8bghZk"
      },
      "execution_count": 21,
      "outputs": []
    },
    {
      "cell_type": "code",
      "source": [
        "model.save(\"RMSprop.h5\")\n",
        "print(\"Saved model to disk\")"
      ],
      "metadata": {
        "colab": {
          "base_uri": "https://localhost:8080/"
        },
        "id": "vyB9BUEVge-d",
        "outputId": "b63383b2-c012-4263-8d3a-611650682508"
      },
      "execution_count": 22,
      "outputs": [
        {
          "output_type": "stream",
          "name": "stdout",
          "text": [
            "Saved model to disk\n"
          ]
        }
      ]
    },
    {
      "cell_type": "markdown",
      "source": [
        "MODEL 3 Menggunakan SGD "
      ],
      "metadata": {
        "id": "dZa6jFwR-xti"
      }
    },
    {
      "cell_type": "code",
      "source": [
        ""
      ],
      "metadata": {
        "id": "7zRON3sk-w5u"
      },
      "execution_count": null,
      "outputs": []
    },
    {
      "cell_type": "code",
      "metadata": {
        "id": "g90GWnzL-y8q"
      },
      "source": [
        "# TULIS KODE ANDA DISINI\n",
        "import tensorflow as tf\n",
        "from tensorflow.keras.models import Sequential, load_model\n",
        "from tensorflow.keras.layers import Dense, Conv2D, MaxPool2D, Flatten, BatchNormalization, Dropout\n",
        "model2 = tf.keras.models.Sequential([\n",
        "    tf.keras.layers.Conv2D(16, (3, 3), activation='relu', input_shape=(64, 64, 3)),\n",
        "    tf.keras.layers.MaxPooling2D(2, 2),\n",
        "    tf.keras.layers.Dropout(0.2),\n",
        "    tf.keras.layers.BatchNormalization(),\n",
        "    tf.keras.layers.Conv2D(16, (3, 3), activation='relu'),\n",
        "    tf.keras.layers.MaxPooling2D(2, 2),\n",
        "    tf.keras.layers.Dropout(0.2),\n",
        "    tf.keras.layers.BatchNormalization(),\n",
        "    tf.keras.layers.Conv2D(32, (3, 3), activation='relu'),\n",
        "    tf.keras.layers.MaxPooling2D(2, 2),\n",
        "    tf.keras.layers.Dropout(0.2),\n",
        "    tf.keras.layers.BatchNormalization(),\n",
        "    tf.keras.layers.Flatten(),\n",
        "    tf.keras.layers.Dense(64, activation='relu'),\n",
        "    tf.keras.layers.Dropout(0.2),\n",
        "    tf.keras.layers.BatchNormalization(),\n",
        "    tf.keras.layers.Dense(2, activation='softmax')\n",
        "])"
      ],
      "execution_count": 23,
      "outputs": []
    },
    {
      "cell_type": "code",
      "metadata": {
        "colab": {
          "base_uri": "https://localhost:8080/"
        },
        "outputId": "b948d701-14a6-4f55-984d-4d46a69349c7",
        "id": "I6qHxmJO-y8r"
      },
      "source": [
        "# Print model summary\n",
        "print(model2.summary())"
      ],
      "execution_count": 24,
      "outputs": [
        {
          "output_type": "stream",
          "name": "stdout",
          "text": [
            "Model: \"sequential_1\"\n",
            "_________________________________________________________________\n",
            " Layer (type)                Output Shape              Param #   \n",
            "=================================================================\n",
            " conv2d_3 (Conv2D)           (None, 62, 62, 16)        448       \n",
            "                                                                 \n",
            " max_pooling2d_3 (MaxPooling  (None, 31, 31, 16)       0         \n",
            " 2D)                                                             \n",
            "                                                                 \n",
            " dropout_4 (Dropout)         (None, 31, 31, 16)        0         \n",
            "                                                                 \n",
            " batch_normalization_4 (Batc  (None, 31, 31, 16)       64        \n",
            " hNormalization)                                                 \n",
            "                                                                 \n",
            " conv2d_4 (Conv2D)           (None, 29, 29, 16)        2320      \n",
            "                                                                 \n",
            " max_pooling2d_4 (MaxPooling  (None, 14, 14, 16)       0         \n",
            " 2D)                                                             \n",
            "                                                                 \n",
            " dropout_5 (Dropout)         (None, 14, 14, 16)        0         \n",
            "                                                                 \n",
            " batch_normalization_5 (Batc  (None, 14, 14, 16)       64        \n",
            " hNormalization)                                                 \n",
            "                                                                 \n",
            " conv2d_5 (Conv2D)           (None, 12, 12, 32)        4640      \n",
            "                                                                 \n",
            " max_pooling2d_5 (MaxPooling  (None, 6, 6, 32)         0         \n",
            " 2D)                                                             \n",
            "                                                                 \n",
            " dropout_6 (Dropout)         (None, 6, 6, 32)          0         \n",
            "                                                                 \n",
            " batch_normalization_6 (Batc  (None, 6, 6, 32)         128       \n",
            " hNormalization)                                                 \n",
            "                                                                 \n",
            " flatten_1 (Flatten)         (None, 1152)              0         \n",
            "                                                                 \n",
            " dense_2 (Dense)             (None, 64)                73792     \n",
            "                                                                 \n",
            " dropout_7 (Dropout)         (None, 64)                0         \n",
            "                                                                 \n",
            " batch_normalization_7 (Batc  (None, 64)               256       \n",
            " hNormalization)                                                 \n",
            "                                                                 \n",
            " dense_3 (Dense)             (None, 2)                 130       \n",
            "                                                                 \n",
            "=================================================================\n",
            "Total params: 81,842\n",
            "Trainable params: 81,586\n",
            "Non-trainable params: 256\n",
            "_________________________________________________________________\n",
            "None\n"
          ]
        }
      ]
    },
    {
      "cell_type": "code",
      "metadata": {
        "colab": {
          "base_uri": "https://localhost:8080/"
        },
        "outputId": "f5ebb2c7-8534-49c3-b564-edb1f06718b8",
        "id": "pL8uZMkZ-y8t"
      },
      "source": [
        "# Compile model\n",
        "from tensorflow.keras.optimizers import SGD\n",
        "\n",
        "model2.compile(optimizer=SGD(lr=0.0001), \n",
        "              loss='categorical_crossentropy', \n",
        "              metrics=['accuracy'])"
      ],
      "execution_count": 25,
      "outputs": [
        {
          "output_type": "stream",
          "name": "stderr",
          "text": [
            "/usr/local/lib/python3.7/dist-packages/keras/optimizer_v2/gradient_descent.py:102: UserWarning: The `lr` argument is deprecated, use `learning_rate` instead.\n",
            "  super(SGD, self).__init__(name, **kwargs)\n"
          ]
        }
      ]
    },
    {
      "cell_type": "code",
      "metadata": {
        "colab": {
          "base_uri": "https://localhost:8080/"
        },
        "outputId": "f49900f4-806c-448b-9661-bf72e05ca495",
        "id": "Kl6Bzryl-y8v"
      },
      "source": [
        "history2 = model2.fit(train_images,\n",
        "                   epochs = 100,\n",
        "                   validation_data = val_images,\n",
        "                   callbacks=[tf.keras.callbacks.ReduceLROnPlateau(\n",
        "                       monitor='val_loss',\n",
        "                       factor=0.5,\n",
        "                       patience=40,\n",
        "                       verbose = 1,\n",
        "                       mode= 'auto',\n",
        "                       cooldown = 1\n",
        "                   )])"
      ],
      "execution_count": 27,
      "outputs": [
        {
          "output_type": "stream",
          "name": "stdout",
          "text": [
            "Epoch 1/100\n",
            "163/163 [==============================] - 109s 649ms/step - loss: 1.0097 - accuracy: 0.5234 - val_loss: 0.7533 - val_accuracy: 0.5000 - lr: 1.0000e-04\n",
            "Epoch 2/100\n",
            "163/163 [==============================] - 87s 533ms/step - loss: 0.9477 - accuracy: 0.5426 - val_loss: 0.8241 - val_accuracy: 0.5000 - lr: 1.0000e-04\n",
            "Epoch 3/100\n",
            "163/163 [==============================] - 82s 505ms/step - loss: 0.9328 - accuracy: 0.5479 - val_loss: 0.9461 - val_accuracy: 0.5000 - lr: 1.0000e-04\n",
            "Epoch 4/100\n",
            "163/163 [==============================] - 83s 507ms/step - loss: 0.9007 - accuracy: 0.5613 - val_loss: 1.0753 - val_accuracy: 0.5000 - lr: 1.0000e-04\n",
            "Epoch 5/100\n",
            "163/163 [==============================] - 84s 516ms/step - loss: 0.8925 - accuracy: 0.5786 - val_loss: 1.0692 - val_accuracy: 0.5000 - lr: 1.0000e-04\n",
            "Epoch 6/100\n",
            "163/163 [==============================] - 83s 506ms/step - loss: 0.8715 - accuracy: 0.5817 - val_loss: 1.0563 - val_accuracy: 0.5000 - lr: 1.0000e-04\n",
            "Epoch 7/100\n",
            "163/163 [==============================] - 84s 516ms/step - loss: 0.8433 - accuracy: 0.5961 - val_loss: 1.0680 - val_accuracy: 0.5000 - lr: 1.0000e-04\n",
            "Epoch 8/100\n",
            "163/163 [==============================] - 83s 511ms/step - loss: 0.8247 - accuracy: 0.6024 - val_loss: 1.0369 - val_accuracy: 0.5000 - lr: 1.0000e-04\n",
            "Epoch 9/100\n",
            "163/163 [==============================] - 83s 511ms/step - loss: 0.8226 - accuracy: 0.6112 - val_loss: 1.0778 - val_accuracy: 0.5000 - lr: 1.0000e-04\n",
            "Epoch 10/100\n",
            "163/163 [==============================] - 83s 512ms/step - loss: 0.8053 - accuracy: 0.6156 - val_loss: 1.1700 - val_accuracy: 0.5000 - lr: 1.0000e-04\n",
            "Epoch 11/100\n",
            "163/163 [==============================] - 82s 503ms/step - loss: 0.7730 - accuracy: 0.6375 - val_loss: 1.0678 - val_accuracy: 0.5000 - lr: 1.0000e-04\n",
            "Epoch 12/100\n",
            "163/163 [==============================] - 80s 492ms/step - loss: 0.7948 - accuracy: 0.6290 - val_loss: 1.0807 - val_accuracy: 0.5000 - lr: 1.0000e-04\n",
            "Epoch 13/100\n",
            "163/163 [==============================] - 80s 493ms/step - loss: 0.7555 - accuracy: 0.6453 - val_loss: 1.1476 - val_accuracy: 0.5000 - lr: 1.0000e-04\n",
            "Epoch 14/100\n",
            "163/163 [==============================] - 78s 481ms/step - loss: 0.7493 - accuracy: 0.6449 - val_loss: 1.0080 - val_accuracy: 0.5000 - lr: 1.0000e-04\n",
            "Epoch 15/100\n",
            "163/163 [==============================] - 79s 485ms/step - loss: 0.7312 - accuracy: 0.6589 - val_loss: 1.0349 - val_accuracy: 0.5000 - lr: 1.0000e-04\n",
            "Epoch 16/100\n",
            "163/163 [==============================] - 83s 508ms/step - loss: 0.7165 - accuracy: 0.6582 - val_loss: 1.0121 - val_accuracy: 0.5000 - lr: 1.0000e-04\n",
            "Epoch 17/100\n",
            "163/163 [==============================] - 80s 491ms/step - loss: 0.7185 - accuracy: 0.6639 - val_loss: 0.9642 - val_accuracy: 0.6667 - lr: 1.0000e-04\n",
            "Epoch 18/100\n",
            "163/163 [==============================] - 79s 482ms/step - loss: 0.7183 - accuracy: 0.6630 - val_loss: 1.0082 - val_accuracy: 0.5000 - lr: 1.0000e-04\n",
            "Epoch 19/100\n",
            "163/163 [==============================] - 79s 484ms/step - loss: 0.6984 - accuracy: 0.6804 - val_loss: 1.0233 - val_accuracy: 0.5000 - lr: 1.0000e-04\n",
            "Epoch 20/100\n",
            "163/163 [==============================] - 79s 483ms/step - loss: 0.6989 - accuracy: 0.6819 - val_loss: 0.9983 - val_accuracy: 0.5000 - lr: 1.0000e-04\n",
            "Epoch 21/100\n",
            "163/163 [==============================] - 80s 489ms/step - loss: 0.6825 - accuracy: 0.6879 - val_loss: 1.1859 - val_accuracy: 0.5000 - lr: 1.0000e-04\n",
            "Epoch 22/100\n",
            "163/163 [==============================] - 83s 506ms/step - loss: 0.6838 - accuracy: 0.6957 - val_loss: 0.9782 - val_accuracy: 0.5000 - lr: 1.0000e-04\n",
            "Epoch 23/100\n",
            "163/163 [==============================] - 78s 480ms/step - loss: 0.6840 - accuracy: 0.6931 - val_loss: 1.1385 - val_accuracy: 0.5000 - lr: 1.0000e-04\n",
            "Epoch 24/100\n",
            "163/163 [==============================] - 78s 481ms/step - loss: 0.6687 - accuracy: 0.7019 - val_loss: 0.9849 - val_accuracy: 0.6667 - lr: 1.0000e-04\n",
            "Epoch 25/100\n",
            "163/163 [==============================] - 79s 482ms/step - loss: 0.6662 - accuracy: 0.6967 - val_loss: 1.0108 - val_accuracy: 0.5000 - lr: 1.0000e-04\n",
            "Epoch 26/100\n",
            "163/163 [==============================] - 80s 492ms/step - loss: 0.6657 - accuracy: 0.7034 - val_loss: 1.0205 - val_accuracy: 0.5000 - lr: 1.0000e-04\n",
            "Epoch 27/100\n",
            "163/163 [==============================] - 78s 478ms/step - loss: 0.6642 - accuracy: 0.6988 - val_loss: 0.8761 - val_accuracy: 0.6667 - lr: 1.0000e-04\n",
            "Epoch 28/100\n",
            "163/163 [==============================] - 77s 473ms/step - loss: 0.6495 - accuracy: 0.7095 - val_loss: 0.9345 - val_accuracy: 0.6667 - lr: 1.0000e-04\n",
            "Epoch 29/100\n",
            "163/163 [==============================] - 77s 475ms/step - loss: 0.6352 - accuracy: 0.7201 - val_loss: 0.9379 - val_accuracy: 0.6667 - lr: 1.0000e-04\n",
            "Epoch 30/100\n",
            "163/163 [==============================] - 79s 484ms/step - loss: 0.6334 - accuracy: 0.7241 - val_loss: 1.0314 - val_accuracy: 0.5000 - lr: 1.0000e-04\n",
            "Epoch 31/100\n",
            "163/163 [==============================] - 79s 482ms/step - loss: 0.6248 - accuracy: 0.7257 - val_loss: 0.8372 - val_accuracy: 0.6667 - lr: 1.0000e-04\n",
            "Epoch 32/100\n",
            "163/163 [==============================] - 79s 485ms/step - loss: 0.6383 - accuracy: 0.7226 - val_loss: 1.0758 - val_accuracy: 0.5000 - lr: 1.0000e-04\n",
            "Epoch 33/100\n",
            "163/163 [==============================] - 80s 490ms/step - loss: 0.6269 - accuracy: 0.7237 - val_loss: 0.9661 - val_accuracy: 0.5000 - lr: 1.0000e-04\n",
            "Epoch 34/100\n",
            "163/163 [==============================] - 80s 492ms/step - loss: 0.6132 - accuracy: 0.7310 - val_loss: 0.9732 - val_accuracy: 0.6667 - lr: 1.0000e-04\n",
            "Epoch 35/100\n",
            "163/163 [==============================] - 80s 490ms/step - loss: 0.6197 - accuracy: 0.7262 - val_loss: 0.8027 - val_accuracy: 0.6667 - lr: 1.0000e-04\n",
            "Epoch 36/100\n",
            "163/163 [==============================] - 80s 492ms/step - loss: 0.6304 - accuracy: 0.7220 - val_loss: 0.9585 - val_accuracy: 0.6667 - lr: 1.0000e-04\n",
            "Epoch 37/100\n",
            "163/163 [==============================] - 81s 494ms/step - loss: 0.6015 - accuracy: 0.7356 - val_loss: 0.8774 - val_accuracy: 0.6667 - lr: 1.0000e-04\n",
            "Epoch 38/100\n",
            "163/163 [==============================] - 80s 494ms/step - loss: 0.6028 - accuracy: 0.7341 - val_loss: 0.9901 - val_accuracy: 0.5000 - lr: 1.0000e-04\n",
            "Epoch 39/100\n",
            "163/163 [==============================] - 81s 494ms/step - loss: 0.6163 - accuracy: 0.7276 - val_loss: 0.9144 - val_accuracy: 0.5000 - lr: 1.0000e-04\n",
            "Epoch 40/100\n",
            "163/163 [==============================] - 81s 497ms/step - loss: 0.5933 - accuracy: 0.7375 - val_loss: 0.9916 - val_accuracy: 0.5000 - lr: 1.0000e-04\n",
            "Epoch 41/100\n",
            "163/163 [==============================] - ETA: 0s - loss: 0.5933 - accuracy: 0.7329\n",
            "Epoch 00041: ReduceLROnPlateau reducing learning rate to 4.999999873689376e-05.\n",
            "163/163 [==============================] - 81s 495ms/step - loss: 0.5933 - accuracy: 0.7329 - val_loss: 0.8823 - val_accuracy: 0.6667 - lr: 1.0000e-04\n",
            "Epoch 42/100\n",
            "163/163 [==============================] - 81s 498ms/step - loss: 0.5901 - accuracy: 0.7419 - val_loss: 0.8703 - val_accuracy: 0.6667 - lr: 5.0000e-05\n",
            "Epoch 43/100\n",
            "163/163 [==============================] - 81s 497ms/step - loss: 0.5958 - accuracy: 0.7408 - val_loss: 0.8438 - val_accuracy: 0.6667 - lr: 5.0000e-05\n",
            "Epoch 44/100\n",
            "163/163 [==============================] - 81s 494ms/step - loss: 0.5874 - accuracy: 0.7452 - val_loss: 0.8009 - val_accuracy: 0.6667 - lr: 5.0000e-05\n",
            "Epoch 45/100\n",
            "163/163 [==============================] - 79s 485ms/step - loss: 0.6004 - accuracy: 0.7343 - val_loss: 0.8371 - val_accuracy: 0.6667 - lr: 5.0000e-05\n",
            "Epoch 46/100\n",
            "163/163 [==============================] - 79s 487ms/step - loss: 0.5863 - accuracy: 0.7408 - val_loss: 0.7478 - val_accuracy: 0.6667 - lr: 5.0000e-05\n",
            "Epoch 47/100\n",
            "163/163 [==============================] - 81s 496ms/step - loss: 0.5672 - accuracy: 0.7556 - val_loss: 0.8277 - val_accuracy: 0.6667 - lr: 5.0000e-05\n",
            "Epoch 48/100\n",
            "163/163 [==============================] - 80s 493ms/step - loss: 0.5747 - accuracy: 0.7546 - val_loss: 0.6285 - val_accuracy: 0.8333 - lr: 5.0000e-05\n",
            "Epoch 49/100\n",
            "163/163 [==============================] - 81s 496ms/step - loss: 0.5735 - accuracy: 0.7448 - val_loss: 0.8541 - val_accuracy: 0.6667 - lr: 5.0000e-05\n",
            "Epoch 50/100\n",
            "163/163 [==============================] - 81s 496ms/step - loss: 0.5882 - accuracy: 0.7419 - val_loss: 0.8932 - val_accuracy: 0.6667 - lr: 5.0000e-05\n",
            "Epoch 51/100\n",
            "163/163 [==============================] - 81s 496ms/step - loss: 0.5926 - accuracy: 0.7469 - val_loss: 0.8788 - val_accuracy: 0.6667 - lr: 5.0000e-05\n",
            "Epoch 52/100\n",
            "163/163 [==============================] - 81s 496ms/step - loss: 0.5779 - accuracy: 0.7475 - val_loss: 0.8144 - val_accuracy: 0.6667 - lr: 5.0000e-05\n",
            "Epoch 53/100\n",
            "163/163 [==============================] - 81s 494ms/step - loss: 0.5594 - accuracy: 0.7439 - val_loss: 0.8580 - val_accuracy: 0.6667 - lr: 5.0000e-05\n",
            "Epoch 54/100\n",
            "163/163 [==============================] - 80s 492ms/step - loss: 0.5851 - accuracy: 0.7429 - val_loss: 0.7403 - val_accuracy: 0.6667 - lr: 5.0000e-05\n",
            "Epoch 55/100\n",
            "163/163 [==============================] - 81s 496ms/step - loss: 0.5614 - accuracy: 0.7462 - val_loss: 0.8798 - val_accuracy: 0.6667 - lr: 5.0000e-05\n",
            "Epoch 56/100\n",
            "163/163 [==============================] - 81s 499ms/step - loss: 0.5796 - accuracy: 0.7488 - val_loss: 0.7502 - val_accuracy: 0.6667 - lr: 5.0000e-05\n",
            "Epoch 57/100\n",
            "163/163 [==============================] - 80s 491ms/step - loss: 0.5814 - accuracy: 0.7437 - val_loss: 0.7692 - val_accuracy: 0.6667 - lr: 5.0000e-05\n",
            "Epoch 58/100\n",
            "163/163 [==============================] - 82s 504ms/step - loss: 0.5709 - accuracy: 0.7444 - val_loss: 0.6931 - val_accuracy: 0.6667 - lr: 5.0000e-05\n",
            "Epoch 59/100\n",
            "163/163 [==============================] - 80s 489ms/step - loss: 0.5788 - accuracy: 0.7396 - val_loss: 0.8054 - val_accuracy: 0.6667 - lr: 5.0000e-05\n",
            "Epoch 60/100\n",
            "163/163 [==============================] - 78s 479ms/step - loss: 0.5707 - accuracy: 0.7481 - val_loss: 0.7674 - val_accuracy: 0.6667 - lr: 5.0000e-05\n",
            "Epoch 61/100\n",
            "163/163 [==============================] - 84s 516ms/step - loss: 0.5675 - accuracy: 0.7592 - val_loss: 0.7639 - val_accuracy: 0.6667 - lr: 5.0000e-05\n",
            "Epoch 62/100\n",
            "163/163 [==============================] - 84s 517ms/step - loss: 0.5680 - accuracy: 0.7586 - val_loss: 0.7386 - val_accuracy: 0.6667 - lr: 5.0000e-05\n",
            "Epoch 63/100\n",
            "163/163 [==============================] - 83s 510ms/step - loss: 0.5508 - accuracy: 0.7571 - val_loss: 0.7699 - val_accuracy: 0.6667 - lr: 5.0000e-05\n",
            "Epoch 64/100\n",
            "163/163 [==============================] - 83s 507ms/step - loss: 0.5639 - accuracy: 0.7573 - val_loss: 0.8081 - val_accuracy: 0.6667 - lr: 5.0000e-05\n",
            "Epoch 65/100\n",
            "163/163 [==============================] - 80s 488ms/step - loss: 0.5575 - accuracy: 0.7590 - val_loss: 0.7083 - val_accuracy: 0.6667 - lr: 5.0000e-05\n",
            "Epoch 66/100\n",
            "163/163 [==============================] - 79s 486ms/step - loss: 0.5458 - accuracy: 0.7651 - val_loss: 0.8098 - val_accuracy: 0.6667 - lr: 5.0000e-05\n",
            "Epoch 67/100\n",
            "163/163 [==============================] - 78s 481ms/step - loss: 0.5550 - accuracy: 0.7590 - val_loss: 0.7566 - val_accuracy: 0.6667 - lr: 5.0000e-05\n",
            "Epoch 68/100\n",
            "163/163 [==============================] - 79s 485ms/step - loss: 0.5741 - accuracy: 0.7544 - val_loss: 0.6667 - val_accuracy: 0.8333 - lr: 5.0000e-05\n",
            "Epoch 69/100\n",
            "163/163 [==============================] - 80s 489ms/step - loss: 0.5449 - accuracy: 0.7598 - val_loss: 0.6828 - val_accuracy: 0.8333 - lr: 5.0000e-05\n",
            "Epoch 70/100\n",
            "163/163 [==============================] - 82s 500ms/step - loss: 0.5440 - accuracy: 0.7579 - val_loss: 0.6677 - val_accuracy: 0.8333 - lr: 5.0000e-05\n",
            "Epoch 71/100\n",
            "163/163 [==============================] - 80s 489ms/step - loss: 0.5504 - accuracy: 0.7529 - val_loss: 0.6591 - val_accuracy: 0.8333 - lr: 5.0000e-05\n",
            "Epoch 72/100\n",
            "163/163 [==============================] - 81s 494ms/step - loss: 0.5342 - accuracy: 0.7607 - val_loss: 0.7440 - val_accuracy: 0.6667 - lr: 5.0000e-05\n",
            "Epoch 73/100\n",
            "163/163 [==============================] - 79s 484ms/step - loss: 0.5266 - accuracy: 0.7659 - val_loss: 0.6954 - val_accuracy: 0.8333 - lr: 5.0000e-05\n",
            "Epoch 74/100\n",
            "163/163 [==============================] - 78s 480ms/step - loss: 0.5571 - accuracy: 0.7529 - val_loss: 0.7307 - val_accuracy: 0.6667 - lr: 5.0000e-05\n",
            "Epoch 75/100\n",
            "163/163 [==============================] - 78s 479ms/step - loss: 0.5541 - accuracy: 0.7544 - val_loss: 0.7570 - val_accuracy: 0.6667 - lr: 5.0000e-05\n",
            "Epoch 76/100\n",
            "163/163 [==============================] - 79s 483ms/step - loss: 0.5558 - accuracy: 0.7536 - val_loss: 0.6945 - val_accuracy: 0.8333 - lr: 5.0000e-05\n",
            "Epoch 77/100\n",
            "163/163 [==============================] - 79s 486ms/step - loss: 0.5449 - accuracy: 0.7594 - val_loss: 0.6768 - val_accuracy: 0.8333 - lr: 5.0000e-05\n",
            "Epoch 78/100\n",
            "163/163 [==============================] - 79s 483ms/step - loss: 0.5401 - accuracy: 0.7611 - val_loss: 0.6696 - val_accuracy: 0.8333 - lr: 5.0000e-05\n",
            "Epoch 79/100\n",
            "163/163 [==============================] - 79s 485ms/step - loss: 0.5236 - accuracy: 0.7696 - val_loss: 0.7209 - val_accuracy: 0.6667 - lr: 5.0000e-05\n",
            "Epoch 80/100\n",
            "163/163 [==============================] - 80s 489ms/step - loss: 0.5280 - accuracy: 0.7690 - val_loss: 0.6816 - val_accuracy: 0.6667 - lr: 5.0000e-05\n",
            "Epoch 81/100\n",
            "163/163 [==============================] - 82s 506ms/step - loss: 0.5321 - accuracy: 0.7609 - val_loss: 0.7275 - val_accuracy: 0.6667 - lr: 5.0000e-05\n",
            "Epoch 82/100\n",
            "163/163 [==============================] - 80s 490ms/step - loss: 0.5405 - accuracy: 0.7642 - val_loss: 0.7462 - val_accuracy: 0.6667 - lr: 5.0000e-05\n",
            "Epoch 83/100\n",
            "163/163 [==============================] - 83s 508ms/step - loss: 0.5139 - accuracy: 0.7715 - val_loss: 0.6211 - val_accuracy: 0.8333 - lr: 5.0000e-05\n",
            "Epoch 84/100\n",
            "163/163 [==============================] - 85s 518ms/step - loss: 0.5378 - accuracy: 0.7676 - val_loss: 0.5956 - val_accuracy: 0.8333 - lr: 5.0000e-05\n",
            "Epoch 85/100\n",
            "163/163 [==============================] - 82s 501ms/step - loss: 0.5312 - accuracy: 0.7678 - val_loss: 0.7194 - val_accuracy: 0.6667 - lr: 5.0000e-05\n",
            "Epoch 86/100\n",
            "163/163 [==============================] - 85s 520ms/step - loss: 0.5208 - accuracy: 0.7784 - val_loss: 0.7170 - val_accuracy: 0.6667 - lr: 5.0000e-05\n",
            "Epoch 87/100\n",
            "163/163 [==============================] - 82s 504ms/step - loss: 0.5376 - accuracy: 0.7642 - val_loss: 0.7326 - val_accuracy: 0.6667 - lr: 5.0000e-05\n",
            "Epoch 88/100\n",
            "163/163 [==============================] - 80s 490ms/step - loss: 0.5415 - accuracy: 0.7632 - val_loss: 0.7469 - val_accuracy: 0.6667 - lr: 5.0000e-05\n",
            "Epoch 89/100\n",
            "163/163 [==============================] - 84s 518ms/step - loss: 0.5202 - accuracy: 0.7768 - val_loss: 0.6754 - val_accuracy: 0.8333 - lr: 5.0000e-05\n",
            "Epoch 90/100\n",
            "163/163 [==============================] - 84s 515ms/step - loss: 0.5315 - accuracy: 0.7722 - val_loss: 0.6635 - val_accuracy: 0.8333 - lr: 5.0000e-05\n",
            "Epoch 91/100\n",
            "163/163 [==============================] - 84s 517ms/step - loss: 0.5265 - accuracy: 0.7734 - val_loss: 0.7126 - val_accuracy: 0.6667 - lr: 5.0000e-05\n",
            "Epoch 92/100\n",
            "163/163 [==============================] - 83s 511ms/step - loss: 0.5220 - accuracy: 0.7694 - val_loss: 0.6409 - val_accuracy: 0.8333 - lr: 5.0000e-05\n",
            "Epoch 93/100\n",
            "163/163 [==============================] - 85s 522ms/step - loss: 0.5242 - accuracy: 0.7711 - val_loss: 0.6611 - val_accuracy: 0.8333 - lr: 5.0000e-05\n",
            "Epoch 94/100\n",
            "163/163 [==============================] - 84s 514ms/step - loss: 0.5417 - accuracy: 0.7671 - val_loss: 0.6783 - val_accuracy: 0.8333 - lr: 5.0000e-05\n",
            "Epoch 95/100\n",
            "163/163 [==============================] - 84s 514ms/step - loss: 0.5376 - accuracy: 0.7630 - val_loss: 0.6260 - val_accuracy: 0.8333 - lr: 5.0000e-05\n",
            "Epoch 96/100\n",
            "163/163 [==============================] - 84s 516ms/step - loss: 0.5209 - accuracy: 0.7686 - val_loss: 0.7509 - val_accuracy: 0.6667 - lr: 5.0000e-05\n",
            "Epoch 97/100\n",
            "163/163 [==============================] - 84s 517ms/step - loss: 0.5418 - accuracy: 0.7640 - val_loss: 0.6624 - val_accuracy: 0.8333 - lr: 5.0000e-05\n",
            "Epoch 98/100\n",
            "163/163 [==============================] - 85s 519ms/step - loss: 0.5257 - accuracy: 0.7667 - val_loss: 0.6761 - val_accuracy: 0.8333 - lr: 5.0000e-05\n",
            "Epoch 99/100\n",
            "163/163 [==============================] - 85s 518ms/step - loss: 0.5062 - accuracy: 0.7755 - val_loss: 0.6218 - val_accuracy: 0.8333 - lr: 5.0000e-05\n",
            "Epoch 100/100\n",
            "163/163 [==============================] - 85s 521ms/step - loss: 0.5188 - accuracy: 0.7761 - val_loss: 0.6573 - val_accuracy: 0.8333 - lr: 5.0000e-05\n"
          ]
        }
      ]
    },
    {
      "cell_type": "code",
      "metadata": {
        "id": "cVl6bBFT-y8w"
      },
      "source": [
        "import matplotlib.pyplot as plt\n",
        "def eval_plot(history2):\n",
        "\n",
        "  plt.figure(figsize=(14, 5))\n",
        "\n",
        "  # Accuracy plot\n",
        "  plt.subplot(1, 2, 1)\n",
        "  acc = history2.history['accuracy']\n",
        "  val_acc = history2.history['val_accuracy']\n",
        "  epochs = range(len(acc))\n",
        "  acc_plot, = plt.plot(epochs, acc, 'r')\n",
        "  val_acc_plot, = plt.plot(epochs, val_acc, 'b')\n",
        "  plt.title('Training and Validation Accuracy')\n",
        "  plt.legend([acc_plot, val_acc_plot], ['Training Accuracy', 'Validation Accuracy'])\n",
        "\n",
        "  # Loss plot\n",
        "  plt.subplot(1, 2, 2)\n",
        "  loss = history2.history['loss']\n",
        "  val_loss = history2.history['val_loss']\n",
        "  epochs = range(len(loss))\n",
        "  loss_plot, = plt.plot(epochs, loss, 'r')\n",
        "  val_loss_plot, = plt.plot(epochs, val_loss, 'b')\n",
        "  plt.title('Training and Validation Loss')\n",
        "  plt.legend([loss_plot, val_loss_plot], ['Training Loss', 'Validation Loss'])"
      ],
      "execution_count": 28,
      "outputs": []
    },
    {
      "cell_type": "code",
      "metadata": {
        "colab": {
          "base_uri": "https://localhost:8080/",
          "height": 336
        },
        "outputId": "3205ce8f-dcc7-45fb-8c74-9cc2bebe0e0a",
        "id": "9RJqQjCu-y8y"
      },
      "source": [
        "eval_plot(history2)"
      ],
      "execution_count": 29,
      "outputs": [
        {
          "output_type": "display_data",
          "data": {
            "image/png": "[encoded data removed]",
            "text/plain": [
              "<Figure size 1008x360 with 2 Axes>"
            ]
          },
          "metadata": {
            "needs_background": "light"
          }
        }
      ]
    },
    {
      "cell_type": "code",
      "metadata": {
        "id": "aDpxIt02-y80"
      },
      "source": [
        "from sklearn.metrics import classification_report, confusion_matrix\n",
        "import seaborn as sns\n",
        "\n",
        "def evaluate(model2):\n",
        "  valid_generator = train_generator.flow_from_directory(\n",
        "      TRAIN_DIR, \n",
        "      target_size=(64,64), \n",
        "      batch_size=32, \n",
        "      class_mode='categorical',\n",
        "      shuffle = False)\n",
        "\n",
        "  batch_size = 32\n",
        "  num_of_test_samples = len(valid_generator.filenames)\n",
        "\n",
        "  Y_pred = model2.predict_generator(valid_generator, num_of_test_samples // batch_size+1)\n",
        "  y_pred = np.argmax(Y_pred, axis=1)\n",
        "\n",
        "  print('\\nConfusion Matrix\\n')\n",
        "  cm = confusion_matrix(valid_generator.classes, y_pred)\n",
        "  plt.figure(figsize=(8, 8))\n",
        "  sns.heatmap(cm, annot=True, fmt='g', vmin=0, cmap='Blues', cbar=False)\n",
        "  plt.xticks(ticks=[0.5, 1.5], labels=['NORMAL', 'PNEUMONIA'])\n",
        "  plt.yticks(ticks=[0.5, 1.5], labels=['NORMAL', 'PNEUMONIA'])\n",
        "  plt.xlabel(\"Predicted\")\n",
        "  plt.ylabel(\"Actual\")\n",
        "  plt.title(\"Confusion Matrix\")\n",
        "  plt.show()\n",
        "\n",
        "  print('\\n\\nClassification Report\\n')\n",
        "  target_names = ['NORMAL', 'PNEUMONIA']\n",
        "  print(classification_report(valid_generator.classes, y_pred, target_names=target_names))\n",
        "\n",
        "  tn, fp, fn, tp = cm.ravel()\n",
        "\n",
        "  precision = tp/(tp+fp)\n",
        "  recall = tp/(tp+fn)\n",
        "  f = 2*((precision*recall)/(precision+recall))\n",
        "\n",
        "  print(\"Recall of the model is {:.2f}\".format(recall))\n",
        "  print(\"Precision of the model is {:.2f}\".format(precision))\n",
        "  print(\"F-1 Score of the model is {:.2f}\".format(f)) "
      ],
      "execution_count": 30,
      "outputs": []
    },
    {
      "cell_type": "code",
      "metadata": {
        "colab": {
          "base_uri": "https://localhost:8080/",
          "height": 952
        },
        "outputId": "6467d9eb-2d52-4337-9790-f595027249cb",
        "id": "Pq3I3Jp6-y82"
      },
      "source": [
        "evaluate(model2)"
      ],
      "execution_count": 31,
      "outputs": [
        {
          "output_type": "stream",
          "name": "stdout",
          "text": [
            "Found 5216 images belonging to 2 classes.\n"
          ]
        },
        {
          "output_type": "stream",
          "name": "stderr",
          "text": [
            "/usr/local/lib/python3.7/dist-packages/ipykernel_launcher.py:15: UserWarning: `Model.predict_generator` is deprecated and will be removed in a future version. Please use `Model.predict`, which supports generators.\n",
            "  from ipykernel import kernelapp as app\n"
          ]
        },
        {
          "output_type": "stream",
          "name": "stdout",
          "text": [
            "WARNING:tensorflow:Your input ran out of data; interrupting training. Make sure that your dataset or generator can generate at least `steps_per_epoch * epochs` batches (in this case, 164 batches). You may need to use the repeat() function when building your dataset.\n",
            "\n",
            "Confusion Matrix\n",
            "\n"
          ]
        },
        {
          "output_type": "display_data",
          "data": {
            "image/png": "[encoded data removed]",
            "text/plain": [
              "<Figure size 576x576 with 1 Axes>"
            ]
          },
          "metadata": {
            "needs_background": "light"
          }
        },
        {
          "output_type": "stream",
          "name": "stdout",
          "text": [
            "\n",
            "\n",
            "Classification Report\n",
            "\n",
            "              precision    recall  f1-score   support\n",
            "\n",
            "      NORMAL       0.67      0.01      0.02      1341\n",
            "   PNEUMONIA       0.74      1.00      0.85      3875\n",
            "\n",
            "    accuracy                           0.74      5216\n",
            "   macro avg       0.71      0.50      0.44      5216\n",
            "weighted avg       0.72      0.74      0.64      5216\n",
            "\n",
            "Recall of the model is 1.00\n",
            "Precision of the model is 0.74\n",
            "F-1 Score of the model is 0.85\n"
          ]
        }
      ]
    },
    {
      "cell_type": "code",
      "source": [
        "# serialize model to JSON\n",
        "model_json = model.to_json()\n",
        "with open(\"SGD.json\", \"w\") as json_file: json_file.write(model_json)"
      ],
      "metadata": {
        "id": "cdD77wdd-y84"
      },
      "execution_count": 32,
      "outputs": []
    },
    {
      "cell_type": "code",
      "source": [
        "model.save(\"SGD.h5\")\n",
        "print(\"Saved model to disk\")"
      ],
      "metadata": {
        "colab": {
          "base_uri": "https://localhost:8080/"
        },
        "id": "uuzf8vqF-y85",
        "outputId": "27f77cbe-c064-429e-953c-f4211f2a1432"
      },
      "execution_count": 33,
      "outputs": [
        {
          "output_type": "stream",
          "name": "stdout",
          "text": [
            "Saved model to disk\n"
          ]
        }
      ]
    }
  ]
}